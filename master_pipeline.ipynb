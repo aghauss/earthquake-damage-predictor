{
 "cells": [
  {
   "cell_type": "markdown",
   "metadata": {},
   "source": [
    "# Load Functions"
   ]
  },
  {
   "cell_type": "code",
   "execution_count": 1,
   "metadata": {},
   "outputs": [],
   "source": [
    "from src import (FeatureEngineering, FeatureSelection, train_test_split_function, \n",
    "                           check_numerical_columns, find_best_score, run_and_save, \n",
    "                           tune_model, compute_mean_encodings, apply_mean_encodings,perform_parameter_tuning)"
   ]
  },
  {
   "cell_type": "markdown",
   "metadata": {},
   "source": [
    "## Parameter Tuning (Optional)\n",
    "\n",
    "You can choose to skip the parameter tuning section by setting `skip_parameter_tuning` to `True`. If skipped, the notebook will use default hyperparameters.\n",
    "\n",
    "To run parameter tuning, set `skip_parameter_tuning` to `False`.\n"
   ]
  },
  {
   "cell_type": "code",
   "execution_count": 2,
   "metadata": {},
   "outputs": [
    {
     "name": "stdout",
     "output_type": "stream",
     "text": [
      "Parameter tuning skipped. Using default hyperparameters.\n"
     ]
    }
   ],
   "source": [
    "if __name__ == \"__main__\":\n",
    "    # You can choose to skip parameter tuning by setting skip_parameter_tuning=True or False\n",
    "    skip_parameter_tuning = True  # Set this to your desired value\n",
    "    parameter_tuning_result = perform_parameter_tuning(skip_parameter_tuning=skip_parameter_tuning)"
   ]
  },
  {
   "cell_type": "markdown",
   "metadata": {},
   "source": [
    "# Load Data & Feature Engineering"
   ]
  },
  {
   "cell_type": "code",
   "execution_count": 3,
   "metadata": {},
   "outputs": [],
   "source": [
    "df,test_df = FeatureEngineering(drop_non_numerical=True, drop_empty_rows=True)"
   ]
  },
  {
   "cell_type": "code",
   "execution_count": 4,
   "metadata": {},
   "outputs": [],
   "source": [
    "building_id = test_df.building_id"
   ]
  },
  {
   "cell_type": "code",
   "execution_count": 5,
   "metadata": {},
   "outputs": [],
   "source": [
    "selected_features = df.columns[df.columns != \"building_id\"]"
   ]
  },
  {
   "cell_type": "code",
   "execution_count": 6,
   "metadata": {},
   "outputs": [],
   "source": [
    "# Use list comprehension to remove 'damage_grade' from the list\n",
    "selected_features_test = [feature for feature in selected_features if feature != 'damage_grade']\n",
    "\n",
    "# Assuming FeatureSelection is a function that selects specified features from a dataframe\n",
    "selected_df = FeatureSelection(df, selected_features)\n",
    "selected_test_df = FeatureSelection(test_df, selected_features_test)"
   ]
  },
  {
   "cell_type": "markdown",
   "metadata": {},
   "source": [
    "# Encoding"
   ]
  },
  {
   "cell_type": "code",
   "execution_count": 7,
   "metadata": {},
   "outputs": [],
   "source": [
    "mean_encodings = compute_mean_encodings(dataframe=selected_df,target_variable='damage_grade', columns_to_encode=['geo_level_1_id','geo_level_2_id','geo_level_3_id'])"
   ]
  },
  {
   "cell_type": "code",
   "execution_count": 8,
   "metadata": {},
   "outputs": [],
   "source": [
    "selected_df = apply_mean_encodings(dataframe=selected_df, mean_encodings=mean_encodings)"
   ]
  },
  {
   "cell_type": "code",
   "execution_count": 9,
   "metadata": {},
   "outputs": [],
   "source": [
    "selected_test_df = apply_mean_encodings(dataframe=selected_test_df, mean_encodings=mean_encodings)"
   ]
  },
  {
   "cell_type": "code",
   "execution_count": 10,
   "metadata": {},
   "outputs": [
    {
     "name": "stdout",
     "output_type": "stream",
     "text": [
      "Yes\n"
     ]
    }
   ],
   "source": [
    "check_numerical_columns(selected_df)"
   ]
  },
  {
   "cell_type": "markdown",
   "metadata": {},
   "source": [
    "# Train_Test_Split"
   ]
  },
  {
   "cell_type": "code",
   "execution_count": 11,
   "metadata": {},
   "outputs": [],
   "source": [
    "target_column_name = 'damage_grade'"
   ]
  },
  {
   "cell_type": "code",
   "execution_count": 12,
   "metadata": {},
   "outputs": [],
   "source": [
    "X_train, X_val, y_train, y_val = train_test_split_function(selected_df,target_column_name)"
   ]
  },
  {
   "cell_type": "markdown",
   "metadata": {},
   "source": [
    "# Finding best parameters"
   ]
  },
  {
   "cell_type": "code",
   "execution_count": 13,
   "metadata": {},
   "outputs": [],
   "source": [
    "best_params = find_best_score(X_train, y_train, 2, 10, 2,[0.1,0.01], model='XGB',skip_parameter_tuning=skip_parameter_tuning)"
   ]
  },
  {
   "cell_type": "code",
   "execution_count": 14,
   "metadata": {},
   "outputs": [
    {
     "data": {
      "text/plain": [
       "{'learning_rate': 0.1, 'max_depth': 3, 'n_estimators': 100}"
      ]
     },
     "execution_count": 14,
     "metadata": {},
     "output_type": "execute_result"
    }
   ],
   "source": [
    "best_params"
   ]
  },
  {
   "cell_type": "markdown",
   "metadata": {},
   "source": [
    "# Cross-Validation and Model-Fit"
   ]
  },
  {
   "cell_type": "code",
   "execution_count": 15,
   "metadata": {},
   "outputs": [
    {
     "name": "stdout",
     "output_type": "stream",
     "text": [
      "[0]\tTest-mlogloss:1.03577\n",
      "[1]\tTest-mlogloss:0.98253\n",
      "[2]\tTest-mlogloss:0.93727\n",
      "[3]\tTest-mlogloss:0.89811\n",
      "[4]\tTest-mlogloss:0.86422\n",
      "[5]\tTest-mlogloss:0.83455\n",
      "[6]\tTest-mlogloss:0.80870\n",
      "[7]\tTest-mlogloss:0.78596\n",
      "[8]\tTest-mlogloss:0.76602\n",
      "[9]\tTest-mlogloss:0.74838\n"
     ]
    },
    {
     "name": "stderr",
     "output_type": "stream",
     "text": [
      "/Users/aghauss/Desktop/git_collector/Earthquake-challenge/new_env/lib/python3.10/site-packages/xgboost/core.py:160: UserWarning: [12:45:09] WARNING: /Users/runner/work/xgboost/xgboost/src/learner.cc:742: \n",
      "Parameters: { \"n_estimators\" } are not used.\n",
      "\n",
      "  warnings.warn(smsg, UserWarning)\n"
     ]
    },
    {
     "name": "stdout",
     "output_type": "stream",
     "text": [
      "[10]\tTest-mlogloss:0.73283\n",
      "[11]\tTest-mlogloss:0.71892\n",
      "[12]\tTest-mlogloss:0.70645\n",
      "[13]\tTest-mlogloss:0.69544\n",
      "[14]\tTest-mlogloss:0.68567\n",
      "[15]\tTest-mlogloss:0.67677\n",
      "[16]\tTest-mlogloss:0.66887\n",
      "[17]\tTest-mlogloss:0.66181\n",
      "[18]\tTest-mlogloss:0.65524\n",
      "[19]\tTest-mlogloss:0.64918\n",
      "[20]\tTest-mlogloss:0.64386\n",
      "[21]\tTest-mlogloss:0.63900\n",
      "[22]\tTest-mlogloss:0.63458\n",
      "[23]\tTest-mlogloss:0.63045\n",
      "[24]\tTest-mlogloss:0.62671\n",
      "[25]\tTest-mlogloss:0.62318\n",
      "[26]\tTest-mlogloss:0.61994\n",
      "[27]\tTest-mlogloss:0.61695\n",
      "[28]\tTest-mlogloss:0.61423\n",
      "[29]\tTest-mlogloss:0.61171\n",
      "[30]\tTest-mlogloss:0.60933\n",
      "[31]\tTest-mlogloss:0.60719\n",
      "[32]\tTest-mlogloss:0.60504\n",
      "[33]\tTest-mlogloss:0.60316\n",
      "[34]\tTest-mlogloss:0.60132\n",
      "[35]\tTest-mlogloss:0.59953\n",
      "[36]\tTest-mlogloss:0.59800\n",
      "[37]\tTest-mlogloss:0.59647\n",
      "[38]\tTest-mlogloss:0.59508\n",
      "[39]\tTest-mlogloss:0.59383\n",
      "[40]\tTest-mlogloss:0.59250\n",
      "[41]\tTest-mlogloss:0.59133\n",
      "[42]\tTest-mlogloss:0.59015\n",
      "[43]\tTest-mlogloss:0.58910\n",
      "[44]\tTest-mlogloss:0.58810\n",
      "[45]\tTest-mlogloss:0.58713\n",
      "[46]\tTest-mlogloss:0.58628\n",
      "[47]\tTest-mlogloss:0.58548\n",
      "[48]\tTest-mlogloss:0.58464\n",
      "[49]\tTest-mlogloss:0.58394\n",
      "[50]\tTest-mlogloss:0.58316\n",
      "[51]\tTest-mlogloss:0.58248\n",
      "[52]\tTest-mlogloss:0.58183\n",
      "[53]\tTest-mlogloss:0.58121\n",
      "[54]\tTest-mlogloss:0.58064\n",
      "[55]\tTest-mlogloss:0.58012\n",
      "[56]\tTest-mlogloss:0.57961\n",
      "[57]\tTest-mlogloss:0.57906\n",
      "[58]\tTest-mlogloss:0.57854\n",
      "[59]\tTest-mlogloss:0.57805\n",
      "[60]\tTest-mlogloss:0.57762\n",
      "[61]\tTest-mlogloss:0.57717\n",
      "[62]\tTest-mlogloss:0.57680\n",
      "[63]\tTest-mlogloss:0.57641\n",
      "[64]\tTest-mlogloss:0.57596\n",
      "[65]\tTest-mlogloss:0.57558\n",
      "[66]\tTest-mlogloss:0.57521\n",
      "[67]\tTest-mlogloss:0.57482\n",
      "[68]\tTest-mlogloss:0.57439\n",
      "[69]\tTest-mlogloss:0.57409\n",
      "[70]\tTest-mlogloss:0.57377\n",
      "[71]\tTest-mlogloss:0.57348\n",
      "[72]\tTest-mlogloss:0.57312\n",
      "[73]\tTest-mlogloss:0.57283\n",
      "[74]\tTest-mlogloss:0.57247\n",
      "[75]\tTest-mlogloss:0.57224\n",
      "[76]\tTest-mlogloss:0.57202\n",
      "[77]\tTest-mlogloss:0.57170\n",
      "[78]\tTest-mlogloss:0.57140\n",
      "[79]\tTest-mlogloss:0.57122\n",
      "[80]\tTest-mlogloss:0.57101\n",
      "[81]\tTest-mlogloss:0.57075\n",
      "[82]\tTest-mlogloss:0.57057\n",
      "[83]\tTest-mlogloss:0.57040\n",
      "[84]\tTest-mlogloss:0.57021\n",
      "[85]\tTest-mlogloss:0.57000\n",
      "[86]\tTest-mlogloss:0.56979\n",
      "[87]\tTest-mlogloss:0.56961\n",
      "[88]\tTest-mlogloss:0.56944\n",
      "[89]\tTest-mlogloss:0.56929\n",
      "[90]\tTest-mlogloss:0.56906\n",
      "[91]\tTest-mlogloss:0.56892\n",
      "[92]\tTest-mlogloss:0.56873\n",
      "[93]\tTest-mlogloss:0.56859\n",
      "[94]\tTest-mlogloss:0.56836\n",
      "[95]\tTest-mlogloss:0.56824\n",
      "[96]\tTest-mlogloss:0.56806\n",
      "[97]\tTest-mlogloss:0.56793\n",
      "[98]\tTest-mlogloss:0.56776\n",
      "[99]\tTest-mlogloss:0.56765\n"
     ]
    }
   ],
   "source": [
    "fitted_model,accuracy = tune_model(X_train, y_train, X_val, y_val, best_params, model = 'XGB')"
   ]
  },
  {
   "cell_type": "code",
   "execution_count": 16,
   "metadata": {},
   "outputs": [
    {
     "data": {
      "text/plain": [
       "0.7455152433759905"
      ]
     },
     "execution_count": 16,
     "metadata": {},
     "output_type": "execute_result"
    }
   ],
   "source": [
    "accuracy"
   ]
  },
  {
   "cell_type": "markdown",
   "metadata": {},
   "source": [
    "# Run validation and print csv"
   ]
  },
  {
   "cell_type": "code",
   "execution_count": 17,
   "metadata": {},
   "outputs": [
    {
     "name": "stdout",
     "output_type": "stream",
     "text": [
      "File saved as data/output/predictions_2024-02-03_12-45-14.csv\n"
     ]
    }
   ],
   "source": [
    "run_and_save(fitted_model,selected_test_df,building_id)"
   ]
  },
  {
   "cell_type": "code",
   "execution_count": null,
   "metadata": {},
   "outputs": [],
   "source": []
  }
 ],
 "metadata": {
  "kernelspec": {
   "display_name": "mario_env",
   "language": "python",
   "name": "python3"
  },
  "language_info": {
   "codemirror_mode": {
    "name": "ipython",
    "version": 3
   },
   "file_extension": ".py",
   "mimetype": "text/x-python",
   "name": "python",
   "nbconvert_exporter": "python",
   "pygments_lexer": "ipython3",
   "version": "3.10.13"
  }
 },
 "nbformat": 4,
 "nbformat_minor": 2
}
