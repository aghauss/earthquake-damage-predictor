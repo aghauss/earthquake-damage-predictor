{
 "cells": [
  {
   "cell_type": "code",
   "execution_count": 34,
   "metadata": {},
   "outputs": [],
   "source": [
    "from scripts.fe import FeatureEngineering\n",
    "from scripts.fs import FeatureSelection\n",
    "from scripts.fs import train_test_split_function\n",
    "from scripts.fs import check_numerical_columns\n",
    "from scripts.cross_val import find_best_score\n",
    "\n",
    "from sklearn.ensemble import RandomForestClassifier\n",
    "from scripts.modelling import prediction_to_csv\n",
    "from sklearn.metrics import mean_absolute_error\n",
    "from scripts.lazy_model import lazy_model\n",
    "from scripts.final_predicter import run_and_save\n",
    "import pandas as pd\n",
    "from datetime import datetime\n",
    "from scripts.fe import mean_encode\n",
    "from scripts.modelling import tune_model\n",
    "from scripts.fe import compute_mean_encodings\n",
    "from scripts.fe import apply_mean_encodings"
   ]
  },
  {
   "cell_type": "markdown",
   "metadata": {},
   "source": [
    "# Feature Engineering"
   ]
  },
  {
   "cell_type": "code",
   "execution_count": 35,
   "metadata": {},
   "outputs": [],
   "source": [
    "df,test_df = FeatureEngineering(drop_non_numerical=True, drop_empty_rows=True)"
   ]
  },
  {
   "cell_type": "code",
   "execution_count": 36,
   "metadata": {},
   "outputs": [],
   "source": [
    "building_id = test_df.building_id"
   ]
  },
  {
   "cell_type": "code",
   "execution_count": 37,
   "metadata": {},
   "outputs": [],
   "source": [
    "selected_features = df.columns"
   ]
  },
  {
   "cell_type": "code",
   "execution_count": 49,
   "metadata": {},
   "outputs": [],
   "source": [
    "# Use list comprehension to remove 'damage_grade' from the list\n",
    "selected_features_test = [feature for feature in selected_features if feature != 'damage_grade']\n",
    "\n",
    "# Assuming FeatureSelection is a function that selects specified features from a dataframe\n",
    "selected_df = FeatureSelection(df, selected_features)\n",
    "selected_test_df = FeatureSelection(test_df, selected_features_test)"
   ]
  },
  {
   "cell_type": "markdown",
   "metadata": {},
   "source": [
    "# Encoding"
   ]
  },
  {
   "cell_type": "code",
   "execution_count": 39,
   "metadata": {},
   "outputs": [],
   "source": [
    "mean_encodings = compute_mean_encodings(dataframe=selected_df,target_variable='damage_grade', columns_to_encode=['geo_level_1_id','geo_level_2_id','geo_level_3_id'])"
   ]
  },
  {
   "cell_type": "code",
   "execution_count": 40,
   "metadata": {},
   "outputs": [],
   "source": [
    "selected_df = apply_mean_encodings(dataframe=selected_df, mean_encodings=mean_encodings)"
   ]
  },
  {
   "cell_type": "code",
   "execution_count": 41,
   "metadata": {},
   "outputs": [],
   "source": [
    "selected_test_df = apply_mean_encodings(dataframe=selected_test_df, mean_encodings=mean_encodings)"
   ]
  },
  {
   "cell_type": "code",
   "execution_count": 19,
   "metadata": {},
   "outputs": [
    {
     "name": "stdout",
     "output_type": "stream",
     "text": [
      "Yes\n"
     ]
    }
   ],
   "source": [
    "check_numerical_columns(selected_df)"
   ]
  },
  {
   "cell_type": "markdown",
   "metadata": {},
   "source": [
    "# Train_Test_Split"
   ]
  },
  {
   "cell_type": "code",
   "execution_count": 20,
   "metadata": {},
   "outputs": [],
   "source": [
    "target_column_name = 'damage_grade'"
   ]
  },
  {
   "cell_type": "code",
   "execution_count": 21,
   "metadata": {},
   "outputs": [],
   "source": [
    "X_train, X_val, y_train, y_val = train_test_split_function(selected_df,target_column_name)"
   ]
  },
  {
   "cell_type": "markdown",
   "metadata": {},
   "source": [
    "# Finding best parameters"
   ]
  },
  {
   "cell_type": "code",
   "execution_count": 24,
   "metadata": {},
   "outputs": [],
   "source": [
    "results = find_best_score(X_train, y_train, 2, 10, 2,[0.1,0.01], model='XGB')"
   ]
  },
  {
   "cell_type": "code",
   "execution_count": 42,
   "metadata": {},
   "outputs": [
    {
     "name": "stdout",
     "output_type": "stream",
     "text": [
      "Best Hyperparameters: {'num_class': 3, 'max_depth': 2, 'learning_rate': 0.01, 'num_boost_round': 100}\n",
      "Best Score: 0.7672138164460327\n"
     ]
    }
   ],
   "source": [
    "best_params = None\n",
    "best_score = float('-inf')  # Initialize to negative infinity\n",
    "\n",
    "for key, (params, score) in results.items():\n",
    "    if score > best_score:\n",
    "        best_score = score\n",
    "        best_params = params\n",
    "\n",
    "print(\"Best Hyperparameters:\", best_params)\n",
    "print(\"Best Score:\", best_score)"
   ]
  },
  {
   "cell_type": "code",
   "execution_count": 169,
   "metadata": {},
   "outputs": [],
   "source": [
    "infolist = [1,2]"
   ]
  },
  {
   "cell_type": "markdown",
   "metadata": {},
   "source": [
    "# Cross-Validation and Model-Fit"
   ]
  },
  {
   "cell_type": "code",
   "execution_count": 43,
   "metadata": {},
   "outputs": [
    {
     "data": {
      "text/plain": [
       "{'num_class': 3, 'max_depth': 2, 'learning_rate': 0.01, 'num_boost_round': 100}"
      ]
     },
     "execution_count": 43,
     "metadata": {},
     "output_type": "execute_result"
    }
   ],
   "source": [
    "best_params"
   ]
  },
  {
   "cell_type": "code",
   "execution_count": 44,
   "metadata": {},
   "outputs": [],
   "source": [
    "infolist = []"
   ]
  },
  {
   "cell_type": "code",
   "execution_count": 45,
   "metadata": {},
   "outputs": [
    {
     "name": "stdout",
     "output_type": "stream",
     "text": [
      "[0]\tTest-mlogloss:1.09240\n",
      "[1]\tTest-mlogloss:1.08629\n",
      "[2]\tTest-mlogloss:1.08027\n",
      "[3]\tTest-mlogloss:1.07436\n",
      "[4]\tTest-mlogloss:1.06853\n",
      "[5]\tTest-mlogloss:1.06281\n"
     ]
    },
    {
     "name": "stderr",
     "output_type": "stream",
     "text": [
      "/Users/aghauss/anaconda3/envs/mario_env/lib/python3.11/site-packages/xgboost/core.py:160: UserWarning: [10:48:25] WARNING: /Users/runner/work/xgboost/xgboost/src/learner.cc:742: \n",
      "Parameters: { \"num_boost_round\" } are not used.\n",
      "\n",
      "  warnings.warn(smsg, UserWarning)\n"
     ]
    },
    {
     "name": "stdout",
     "output_type": "stream",
     "text": [
      "[6]\tTest-mlogloss:1.05716\n",
      "[7]\tTest-mlogloss:1.05161\n",
      "[8]\tTest-mlogloss:1.04616\n",
      "[9]\tTest-mlogloss:1.04076\n",
      "[10]\tTest-mlogloss:1.03548\n",
      "[11]\tTest-mlogloss:1.03021\n",
      "[12]\tTest-mlogloss:1.02508\n",
      "[13]\tTest-mlogloss:1.01994\n",
      "[14]\tTest-mlogloss:1.01497\n",
      "[15]\tTest-mlogloss:1.01006\n",
      "[16]\tTest-mlogloss:1.00514\n",
      "[17]\tTest-mlogloss:1.00038\n",
      "[18]\tTest-mlogloss:0.99560\n",
      "[19]\tTest-mlogloss:0.99098\n",
      "[20]\tTest-mlogloss:0.98634\n",
      "[21]\tTest-mlogloss:0.98185\n",
      "[22]\tTest-mlogloss:0.97734\n",
      "[23]\tTest-mlogloss:0.97294\n",
      "[24]\tTest-mlogloss:0.96863\n",
      "[25]\tTest-mlogloss:0.96431\n",
      "[26]\tTest-mlogloss:0.96005\n",
      "[27]\tTest-mlogloss:0.95592\n",
      "[28]\tTest-mlogloss:0.95178\n",
      "[29]\tTest-mlogloss:0.94776\n",
      "[30]\tTest-mlogloss:0.94374\n",
      "[31]\tTest-mlogloss:0.93983\n",
      "[32]\tTest-mlogloss:0.93593\n",
      "[33]\tTest-mlogloss:0.93207\n",
      "[34]\tTest-mlogloss:0.92833\n",
      "[35]\tTest-mlogloss:0.92458\n",
      "[36]\tTest-mlogloss:0.92094\n",
      "[37]\tTest-mlogloss:0.91729\n",
      "[38]\tTest-mlogloss:0.91369\n",
      "[39]\tTest-mlogloss:0.91019\n",
      "[40]\tTest-mlogloss:0.90669\n",
      "[41]\tTest-mlogloss:0.90327\n",
      "[42]\tTest-mlogloss:0.89986\n",
      "[43]\tTest-mlogloss:0.89654\n",
      "[44]\tTest-mlogloss:0.89327\n",
      "[45]\tTest-mlogloss:0.88999\n",
      "[46]\tTest-mlogloss:0.88675\n",
      "[47]\tTest-mlogloss:0.88361\n",
      "[48]\tTest-mlogloss:0.88046\n",
      "[49]\tTest-mlogloss:0.87736\n",
      "[50]\tTest-mlogloss:0.87432\n",
      "[51]\tTest-mlogloss:0.87133\n",
      "[52]\tTest-mlogloss:0.86834\n",
      "[53]\tTest-mlogloss:0.86539\n",
      "[54]\tTest-mlogloss:0.86252\n",
      "[55]\tTest-mlogloss:0.85964\n",
      "[56]\tTest-mlogloss:0.85680\n",
      "[57]\tTest-mlogloss:0.85404\n",
      "[58]\tTest-mlogloss:0.85127\n",
      "[59]\tTest-mlogloss:0.84854\n",
      "[60]\tTest-mlogloss:0.84588\n",
      "[61]\tTest-mlogloss:0.84324\n",
      "[62]\tTest-mlogloss:0.84061\n",
      "[63]\tTest-mlogloss:0.83802\n",
      "[64]\tTest-mlogloss:0.83549\n",
      "[65]\tTest-mlogloss:0.83295\n",
      "[66]\tTest-mlogloss:0.83044\n",
      "[67]\tTest-mlogloss:0.82800\n",
      "[68]\tTest-mlogloss:0.82560\n",
      "[69]\tTest-mlogloss:0.82319\n",
      "[70]\tTest-mlogloss:0.82081\n",
      "[71]\tTest-mlogloss:0.81847\n",
      "[72]\tTest-mlogloss:0.81615\n",
      "[73]\tTest-mlogloss:0.81389\n",
      "[74]\tTest-mlogloss:0.81162\n",
      "[75]\tTest-mlogloss:0.80938\n",
      "[76]\tTest-mlogloss:0.80716\n",
      "[77]\tTest-mlogloss:0.80501\n",
      "[78]\tTest-mlogloss:0.80285\n",
      "[79]\tTest-mlogloss:0.80071\n",
      "[80]\tTest-mlogloss:0.79862\n",
      "[81]\tTest-mlogloss:0.79654\n",
      "[82]\tTest-mlogloss:0.79448\n",
      "[83]\tTest-mlogloss:0.79247\n",
      "[84]\tTest-mlogloss:0.79050\n",
      "[85]\tTest-mlogloss:0.78851\n",
      "[86]\tTest-mlogloss:0.78654\n",
      "[87]\tTest-mlogloss:0.78461\n",
      "[88]\tTest-mlogloss:0.78269\n",
      "[89]\tTest-mlogloss:0.78083\n",
      "[90]\tTest-mlogloss:0.77896\n",
      "[91]\tTest-mlogloss:0.77711\n",
      "[92]\tTest-mlogloss:0.77531\n",
      "[93]\tTest-mlogloss:0.77350\n",
      "[94]\tTest-mlogloss:0.77171\n",
      "[95]\tTest-mlogloss:0.76997\n",
      "[96]\tTest-mlogloss:0.76823\n",
      "[97]\tTest-mlogloss:0.76650\n",
      "[98]\tTest-mlogloss:0.76482\n",
      "[99]\tTest-mlogloss:0.76316\n"
     ]
    }
   ],
   "source": [
    "fitted_model,accuracy = tune_model(X_train, y_train, X_val, y_val, best_params, infolist, model = 'XGB')"
   ]
  },
  {
   "cell_type": "code",
   "execution_count": 47,
   "metadata": {},
   "outputs": [
    {
     "data": {
      "text/plain": [
       "0.7315669307956486"
      ]
     },
     "execution_count": 47,
     "metadata": {},
     "output_type": "execute_result"
    }
   ],
   "source": [
    "accuracy"
   ]
  },
  {
   "cell_type": "markdown",
   "metadata": {},
   "source": [
    "# Run validation and print csv"
   ]
  },
  {
   "cell_type": "code",
   "execution_count": 48,
   "metadata": {},
   "outputs": [
    {
     "name": "stdout",
     "output_type": "stream",
     "text": [
      "File saved as data/output/predictions_2024-02-03_10-48-32.csv\n"
     ]
    }
   ],
   "source": [
    "run_and_save(fitted_model,selected_test_df,building_id)"
   ]
  }
 ],
 "metadata": {
  "kernelspec": {
   "display_name": "mario_env",
   "language": "python",
   "name": "python3"
  },
  "language_info": {
   "codemirror_mode": {
    "name": "ipython",
    "version": 3
   },
   "file_extension": ".py",
   "mimetype": "text/x-python",
   "name": "python",
   "nbconvert_exporter": "python",
   "pygments_lexer": "ipython3",
   "version": "3.11.7"
  }
 },
 "nbformat": 4,
 "nbformat_minor": 2
}
