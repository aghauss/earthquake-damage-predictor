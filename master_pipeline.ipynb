{
 "cells": [
  {
   "cell_type": "markdown",
   "metadata": {},
   "source": [
    "# Load Functions"
   ]
  },
  {
   "cell_type": "code",
   "execution_count": 5,
   "metadata": {},
   "outputs": [],
   "source": [
    "from src import (FeatureEngineering, FeatureSelection, train_test_split_function, \n",
    "                           check_numerical_columns, find_best_score, run_and_save, \n",
    "                           tune_model, compute_mean_encodings, apply_mean_encodings)"
   ]
  },
  {
   "cell_type": "markdown",
   "metadata": {},
   "source": [
    "# Load Data & Feature Engineering"
   ]
  },
  {
   "cell_type": "code",
   "execution_count": 6,
   "metadata": {},
   "outputs": [],
   "source": [
    "df,test_df = FeatureEngineering(drop_non_numerical=True, drop_empty_rows=True)"
   ]
  },
  {
   "cell_type": "code",
   "execution_count": 7,
   "metadata": {},
   "outputs": [],
   "source": [
    "building_id = test_df.building_id"
   ]
  },
  {
   "cell_type": "code",
   "execution_count": 29,
   "metadata": {},
   "outputs": [],
   "source": [
    "selected_features = df.columns[df.columns != \"building_id\"]"
   ]
  },
  {
   "cell_type": "code",
   "execution_count": 32,
   "metadata": {},
   "outputs": [],
   "source": [
    "# Use list comprehension to remove 'damage_grade' from the list\n",
    "selected_features_test = [feature for feature in selected_features if feature != 'damage_grade']\n",
    "\n",
    "# Assuming FeatureSelection is a function that selects specified features from a dataframe\n",
    "selected_df = FeatureSelection(df, selected_features)\n",
    "selected_test_df = FeatureSelection(test_df, selected_features_test)"
   ]
  },
  {
   "cell_type": "markdown",
   "metadata": {},
   "source": [
    "# Encoding"
   ]
  },
  {
   "cell_type": "code",
   "execution_count": 35,
   "metadata": {},
   "outputs": [],
   "source": [
    "mean_encodings = compute_mean_encodings(dataframe=selected_df,target_variable='damage_grade', columns_to_encode=['geo_level_1_id','geo_level_2_id','geo_level_3_id'])"
   ]
  },
  {
   "cell_type": "code",
   "execution_count": 36,
   "metadata": {},
   "outputs": [],
   "source": [
    "selected_df = apply_mean_encodings(dataframe=selected_df, mean_encodings=mean_encodings)"
   ]
  },
  {
   "cell_type": "code",
   "execution_count": 37,
   "metadata": {},
   "outputs": [],
   "source": [
    "selected_test_df = apply_mean_encodings(dataframe=selected_test_df, mean_encodings=mean_encodings)"
   ]
  },
  {
   "cell_type": "code",
   "execution_count": 38,
   "metadata": {},
   "outputs": [
    {
     "name": "stdout",
     "output_type": "stream",
     "text": [
      "Yes\n"
     ]
    }
   ],
   "source": [
    "check_numerical_columns(selected_df)"
   ]
  },
  {
   "cell_type": "markdown",
   "metadata": {},
   "source": [
    "# Train_Test_Split"
   ]
  },
  {
   "cell_type": "code",
   "execution_count": 39,
   "metadata": {},
   "outputs": [],
   "source": [
    "target_column_name = 'damage_grade'"
   ]
  },
  {
   "cell_type": "code",
   "execution_count": 40,
   "metadata": {},
   "outputs": [],
   "source": [
    "X_train, X_val, y_train, y_val = train_test_split_function(selected_df,target_column_name)"
   ]
  },
  {
   "cell_type": "markdown",
   "metadata": {},
   "source": [
    "# Finding best parameters"
   ]
  },
  {
   "cell_type": "code",
   "execution_count": 16,
   "metadata": {},
   "outputs": [],
   "source": [
    "results = find_best_score(X_train, y_train, 2, 10, 2,[0.1,0.01], model='XGB')"
   ]
  },
  {
   "cell_type": "code",
   "execution_count": 17,
   "metadata": {},
   "outputs": [
    {
     "name": "stdout",
     "output_type": "stream",
     "text": [
      "Best Hyperparameters: {'num_class': 3, 'max_depth': 2, 'learning_rate': 0.01, 'num_boost_round': 100}\n",
      "Best Score: 0.7660145415496353\n"
     ]
    }
   ],
   "source": [
    "best_params = None\n",
    "best_score = float('-inf')  # Initialize to negative infinity\n",
    "\n",
    "for key, (params, score) in results.items():\n",
    "    if score > best_score:\n",
    "        best_score = score\n",
    "        best_params = params\n",
    "\n",
    "print(\"Best Hyperparameters:\", best_params)\n",
    "print(\"Best Score:\", best_score)"
   ]
  },
  {
   "cell_type": "code",
   "execution_count": 41,
   "metadata": {},
   "outputs": [],
   "source": [
    "infolist = [1,2]"
   ]
  },
  {
   "cell_type": "markdown",
   "metadata": {},
   "source": [
    "# Cross-Validation and Model-Fit"
   ]
  },
  {
   "cell_type": "code",
   "execution_count": 42,
   "metadata": {},
   "outputs": [
    {
     "data": {
      "text/plain": [
       "{'num_class': 3, 'max_depth': 2, 'learning_rate': 0.01, 'num_boost_round': 100}"
      ]
     },
     "execution_count": 42,
     "metadata": {},
     "output_type": "execute_result"
    }
   ],
   "source": [
    "best_params"
   ]
  },
  {
   "cell_type": "code",
   "execution_count": 43,
   "metadata": {},
   "outputs": [],
   "source": [
    "infolist = []"
   ]
  },
  {
   "cell_type": "code",
   "execution_count": 44,
   "metadata": {},
   "outputs": [
    {
     "data": {
      "text/html": [
       "<div>\n",
       "<style scoped>\n",
       "    .dataframe tbody tr th:only-of-type {\n",
       "        vertical-align: middle;\n",
       "    }\n",
       "\n",
       "    .dataframe tbody tr th {\n",
       "        vertical-align: top;\n",
       "    }\n",
       "\n",
       "    .dataframe thead th {\n",
       "        text-align: right;\n",
       "    }\n",
       "</style>\n",
       "<table border=\"1\" class=\"dataframe\">\n",
       "  <thead>\n",
       "    <tr style=\"text-align: right;\">\n",
       "      <th></th>\n",
       "      <th>geo_level_1_id</th>\n",
       "      <th>geo_level_2_id</th>\n",
       "      <th>geo_level_3_id</th>\n",
       "      <th>count_floors_pre_eq</th>\n",
       "      <th>age</th>\n",
       "      <th>area_percentage</th>\n",
       "      <th>height_percentage</th>\n",
       "      <th>has_superstructure_adobe_mud</th>\n",
       "      <th>has_superstructure_mud_mortar_stone</th>\n",
       "      <th>has_superstructure_stone_flag</th>\n",
       "      <th>...</th>\n",
       "      <th>has_secondary_use_agriculture</th>\n",
       "      <th>has_secondary_use_hotel</th>\n",
       "      <th>has_secondary_use_rental</th>\n",
       "      <th>has_secondary_use_institution</th>\n",
       "      <th>has_secondary_use_school</th>\n",
       "      <th>has_secondary_use_industry</th>\n",
       "      <th>has_secondary_use_health_post</th>\n",
       "      <th>has_secondary_use_gov_office</th>\n",
       "      <th>has_secondary_use_use_police</th>\n",
       "      <th>has_secondary_use_other</th>\n",
       "    </tr>\n",
       "  </thead>\n",
       "  <tbody>\n",
       "    <tr>\n",
       "      <th>110375</th>\n",
       "      <td>2.161724</td>\n",
       "      <td>1.836268</td>\n",
       "      <td>1.863636</td>\n",
       "      <td>3</td>\n",
       "      <td>85</td>\n",
       "      <td>7</td>\n",
       "      <td>7</td>\n",
       "      <td>0</td>\n",
       "      <td>0</td>\n",
       "      <td>0</td>\n",
       "      <td>...</td>\n",
       "      <td>0</td>\n",
       "      <td>0</td>\n",
       "      <td>0</td>\n",
       "      <td>0</td>\n",
       "      <td>0</td>\n",
       "      <td>0</td>\n",
       "      <td>0</td>\n",
       "      <td>0</td>\n",
       "      <td>0</td>\n",
       "      <td>0</td>\n",
       "    </tr>\n",
       "    <tr>\n",
       "      <th>172850</th>\n",
       "      <td>2.297726</td>\n",
       "      <td>2.074919</td>\n",
       "      <td>2.071713</td>\n",
       "      <td>1</td>\n",
       "      <td>0</td>\n",
       "      <td>14</td>\n",
       "      <td>3</td>\n",
       "      <td>0</td>\n",
       "      <td>0</td>\n",
       "      <td>0</td>\n",
       "      <td>...</td>\n",
       "      <td>0</td>\n",
       "      <td>1</td>\n",
       "      <td>0</td>\n",
       "      <td>0</td>\n",
       "      <td>0</td>\n",
       "      <td>0</td>\n",
       "      <td>0</td>\n",
       "      <td>0</td>\n",
       "      <td>0</td>\n",
       "      <td>0</td>\n",
       "    </tr>\n",
       "    <tr>\n",
       "      <th>63463</th>\n",
       "      <td>2.485273</td>\n",
       "      <td>2.440141</td>\n",
       "      <td>2.250000</td>\n",
       "      <td>2</td>\n",
       "      <td>70</td>\n",
       "      <td>11</td>\n",
       "      <td>5</td>\n",
       "      <td>0</td>\n",
       "      <td>1</td>\n",
       "      <td>0</td>\n",
       "      <td>...</td>\n",
       "      <td>0</td>\n",
       "      <td>0</td>\n",
       "      <td>0</td>\n",
       "      <td>0</td>\n",
       "      <td>0</td>\n",
       "      <td>0</td>\n",
       "      <td>0</td>\n",
       "      <td>0</td>\n",
       "      <td>0</td>\n",
       "      <td>0</td>\n",
       "    </tr>\n",
       "    <tr>\n",
       "      <th>128620</th>\n",
       "      <td>2.054054</td>\n",
       "      <td>1.948413</td>\n",
       "      <td>2.000000</td>\n",
       "      <td>2</td>\n",
       "      <td>25</td>\n",
       "      <td>5</td>\n",
       "      <td>5</td>\n",
       "      <td>0</td>\n",
       "      <td>1</td>\n",
       "      <td>0</td>\n",
       "      <td>...</td>\n",
       "      <td>0</td>\n",
       "      <td>0</td>\n",
       "      <td>0</td>\n",
       "      <td>0</td>\n",
       "      <td>0</td>\n",
       "      <td>0</td>\n",
       "      <td>0</td>\n",
       "      <td>0</td>\n",
       "      <td>0</td>\n",
       "      <td>0</td>\n",
       "    </tr>\n",
       "    <tr>\n",
       "      <th>247615</th>\n",
       "      <td>2.341954</td>\n",
       "      <td>2.130790</td>\n",
       "      <td>2.142857</td>\n",
       "      <td>2</td>\n",
       "      <td>25</td>\n",
       "      <td>5</td>\n",
       "      <td>4</td>\n",
       "      <td>0</td>\n",
       "      <td>1</td>\n",
       "      <td>0</td>\n",
       "      <td>...</td>\n",
       "      <td>0</td>\n",
       "      <td>0</td>\n",
       "      <td>0</td>\n",
       "      <td>0</td>\n",
       "      <td>0</td>\n",
       "      <td>0</td>\n",
       "      <td>0</td>\n",
       "      <td>0</td>\n",
       "      <td>0</td>\n",
       "      <td>0</td>\n",
       "    </tr>\n",
       "    <tr>\n",
       "      <th>...</th>\n",
       "      <td>...</td>\n",
       "      <td>...</td>\n",
       "      <td>...</td>\n",
       "      <td>...</td>\n",
       "      <td>...</td>\n",
       "      <td>...</td>\n",
       "      <td>...</td>\n",
       "      <td>...</td>\n",
       "      <td>...</td>\n",
       "      <td>...</td>\n",
       "      <td>...</td>\n",
       "      <td>...</td>\n",
       "      <td>...</td>\n",
       "      <td>...</td>\n",
       "      <td>...</td>\n",
       "      <td>...</td>\n",
       "      <td>...</td>\n",
       "      <td>...</td>\n",
       "      <td>...</td>\n",
       "      <td>...</td>\n",
       "      <td>...</td>\n",
       "    </tr>\n",
       "    <tr>\n",
       "      <th>235946</th>\n",
       "      <td>2.331565</td>\n",
       "      <td>2.481379</td>\n",
       "      <td>2.609756</td>\n",
       "      <td>2</td>\n",
       "      <td>15</td>\n",
       "      <td>6</td>\n",
       "      <td>5</td>\n",
       "      <td>1</td>\n",
       "      <td>0</td>\n",
       "      <td>0</td>\n",
       "      <td>...</td>\n",
       "      <td>0</td>\n",
       "      <td>0</td>\n",
       "      <td>0</td>\n",
       "      <td>0</td>\n",
       "      <td>0</td>\n",
       "      <td>0</td>\n",
       "      <td>0</td>\n",
       "      <td>0</td>\n",
       "      <td>0</td>\n",
       "      <td>0</td>\n",
       "    </tr>\n",
       "    <tr>\n",
       "      <th>217227</th>\n",
       "      <td>1.730887</td>\n",
       "      <td>1.969626</td>\n",
       "      <td>1.933333</td>\n",
       "      <td>3</td>\n",
       "      <td>15</td>\n",
       "      <td>18</td>\n",
       "      <td>7</td>\n",
       "      <td>1</td>\n",
       "      <td>0</td>\n",
       "      <td>0</td>\n",
       "      <td>...</td>\n",
       "      <td>0</td>\n",
       "      <td>0</td>\n",
       "      <td>0</td>\n",
       "      <td>0</td>\n",
       "      <td>0</td>\n",
       "      <td>0</td>\n",
       "      <td>0</td>\n",
       "      <td>0</td>\n",
       "      <td>0</td>\n",
       "      <td>0</td>\n",
       "    </tr>\n",
       "    <tr>\n",
       "      <th>86000</th>\n",
       "      <td>1.926464</td>\n",
       "      <td>1.433054</td>\n",
       "      <td>1.160000</td>\n",
       "      <td>2</td>\n",
       "      <td>25</td>\n",
       "      <td>3</td>\n",
       "      <td>5</td>\n",
       "      <td>0</td>\n",
       "      <td>1</td>\n",
       "      <td>0</td>\n",
       "      <td>...</td>\n",
       "      <td>0</td>\n",
       "      <td>0</td>\n",
       "      <td>0</td>\n",
       "      <td>0</td>\n",
       "      <td>0</td>\n",
       "      <td>0</td>\n",
       "      <td>0</td>\n",
       "      <td>0</td>\n",
       "      <td>0</td>\n",
       "      <td>0</td>\n",
       "    </tr>\n",
       "    <tr>\n",
       "      <th>218690</th>\n",
       "      <td>2.054054</td>\n",
       "      <td>2.024793</td>\n",
       "      <td>2.000000</td>\n",
       "      <td>2</td>\n",
       "      <td>35</td>\n",
       "      <td>8</td>\n",
       "      <td>7</td>\n",
       "      <td>0</td>\n",
       "      <td>1</td>\n",
       "      <td>1</td>\n",
       "      <td>...</td>\n",
       "      <td>0</td>\n",
       "      <td>0</td>\n",
       "      <td>0</td>\n",
       "      <td>0</td>\n",
       "      <td>0</td>\n",
       "      <td>0</td>\n",
       "      <td>0</td>\n",
       "      <td>0</td>\n",
       "      <td>0</td>\n",
       "      <td>0</td>\n",
       "    </tr>\n",
       "    <tr>\n",
       "      <th>54816</th>\n",
       "      <td>2.485273</td>\n",
       "      <td>2.698113</td>\n",
       "      <td>2.896552</td>\n",
       "      <td>3</td>\n",
       "      <td>20</td>\n",
       "      <td>7</td>\n",
       "      <td>7</td>\n",
       "      <td>0</td>\n",
       "      <td>1</td>\n",
       "      <td>0</td>\n",
       "      <td>...</td>\n",
       "      <td>0</td>\n",
       "      <td>0</td>\n",
       "      <td>0</td>\n",
       "      <td>0</td>\n",
       "      <td>0</td>\n",
       "      <td>0</td>\n",
       "      <td>0</td>\n",
       "      <td>0</td>\n",
       "      <td>0</td>\n",
       "      <td>0</td>\n",
       "    </tr>\n",
       "  </tbody>\n",
       "</table>\n",
       "<p>208480 rows × 30 columns</p>\n",
       "</div>"
      ],
      "text/plain": [
       "        geo_level_1_id  geo_level_2_id  geo_level_3_id  count_floors_pre_eq  \\\n",
       "110375        2.161724        1.836268        1.863636                    3   \n",
       "172850        2.297726        2.074919        2.071713                    1   \n",
       "63463         2.485273        2.440141        2.250000                    2   \n",
       "128620        2.054054        1.948413        2.000000                    2   \n",
       "247615        2.341954        2.130790        2.142857                    2   \n",
       "...                ...             ...             ...                  ...   \n",
       "235946        2.331565        2.481379        2.609756                    2   \n",
       "217227        1.730887        1.969626        1.933333                    3   \n",
       "86000         1.926464        1.433054        1.160000                    2   \n",
       "218690        2.054054        2.024793        2.000000                    2   \n",
       "54816         2.485273        2.698113        2.896552                    3   \n",
       "\n",
       "        age  area_percentage  height_percentage  has_superstructure_adobe_mud  \\\n",
       "110375   85                7                  7                             0   \n",
       "172850    0               14                  3                             0   \n",
       "63463    70               11                  5                             0   \n",
       "128620   25                5                  5                             0   \n",
       "247615   25                5                  4                             0   \n",
       "...     ...              ...                ...                           ...   \n",
       "235946   15                6                  5                             1   \n",
       "217227   15               18                  7                             1   \n",
       "86000    25                3                  5                             0   \n",
       "218690   35                8                  7                             0   \n",
       "54816    20                7                  7                             0   \n",
       "\n",
       "        has_superstructure_mud_mortar_stone  has_superstructure_stone_flag  \\\n",
       "110375                                    0                              0   \n",
       "172850                                    0                              0   \n",
       "63463                                     1                              0   \n",
       "128620                                    1                              0   \n",
       "247615                                    1                              0   \n",
       "...                                     ...                            ...   \n",
       "235946                                    0                              0   \n",
       "217227                                    0                              0   \n",
       "86000                                     1                              0   \n",
       "218690                                    1                              1   \n",
       "54816                                     1                              0   \n",
       "\n",
       "        ...  has_secondary_use_agriculture  has_secondary_use_hotel  \\\n",
       "110375  ...                              0                        0   \n",
       "172850  ...                              0                        1   \n",
       "63463   ...                              0                        0   \n",
       "128620  ...                              0                        0   \n",
       "247615  ...                              0                        0   \n",
       "...     ...                            ...                      ...   \n",
       "235946  ...                              0                        0   \n",
       "217227  ...                              0                        0   \n",
       "86000   ...                              0                        0   \n",
       "218690  ...                              0                        0   \n",
       "54816   ...                              0                        0   \n",
       "\n",
       "        has_secondary_use_rental  has_secondary_use_institution  \\\n",
       "110375                         0                              0   \n",
       "172850                         0                              0   \n",
       "63463                          0                              0   \n",
       "128620                         0                              0   \n",
       "247615                         0                              0   \n",
       "...                          ...                            ...   \n",
       "235946                         0                              0   \n",
       "217227                         0                              0   \n",
       "86000                          0                              0   \n",
       "218690                         0                              0   \n",
       "54816                          0                              0   \n",
       "\n",
       "        has_secondary_use_school  has_secondary_use_industry  \\\n",
       "110375                         0                           0   \n",
       "172850                         0                           0   \n",
       "63463                          0                           0   \n",
       "128620                         0                           0   \n",
       "247615                         0                           0   \n",
       "...                          ...                         ...   \n",
       "235946                         0                           0   \n",
       "217227                         0                           0   \n",
       "86000                          0                           0   \n",
       "218690                         0                           0   \n",
       "54816                          0                           0   \n",
       "\n",
       "        has_secondary_use_health_post  has_secondary_use_gov_office  \\\n",
       "110375                              0                             0   \n",
       "172850                              0                             0   \n",
       "63463                               0                             0   \n",
       "128620                              0                             0   \n",
       "247615                              0                             0   \n",
       "...                               ...                           ...   \n",
       "235946                              0                             0   \n",
       "217227                              0                             0   \n",
       "86000                               0                             0   \n",
       "218690                              0                             0   \n",
       "54816                               0                             0   \n",
       "\n",
       "        has_secondary_use_use_police  has_secondary_use_other  \n",
       "110375                             0                        0  \n",
       "172850                             0                        0  \n",
       "63463                              0                        0  \n",
       "128620                             0                        0  \n",
       "247615                             0                        0  \n",
       "...                              ...                      ...  \n",
       "235946                             0                        0  \n",
       "217227                             0                        0  \n",
       "86000                              0                        0  \n",
       "218690                             0                        0  \n",
       "54816                              0                        0  \n",
       "\n",
       "[208480 rows x 30 columns]"
      ]
     },
     "execution_count": 44,
     "metadata": {},
     "output_type": "execute_result"
    }
   ],
   "source": [
    "X_train"
   ]
  },
  {
   "cell_type": "code",
   "execution_count": 45,
   "metadata": {},
   "outputs": [
    {
     "name": "stdout",
     "output_type": "stream",
     "text": [
      "[0]\tTest-mlogloss:1.09243\n",
      "[1]\tTest-mlogloss:1.08634\n",
      "[2]\tTest-mlogloss:1.08035\n",
      "[3]\tTest-mlogloss:1.07446\n",
      "[4]\tTest-mlogloss:1.06866\n",
      "[5]\tTest-mlogloss:1.06297\n",
      "[6]\tTest-mlogloss:1.05735\n",
      "[7]\tTest-mlogloss:1.05182\n",
      "[8]\tTest-mlogloss:1.04637\n",
      "[9]\tTest-mlogloss:1.04101\n"
     ]
    },
    {
     "name": "stderr",
     "output_type": "stream",
     "text": [
      "/Users/aghauss/anaconda3/envs/erthq/lib/python3.10/site-packages/xgboost/core.py:160: UserWarning: [12:05:43] WARNING: /Users/runner/work/xgboost/xgboost/src/learner.cc:742: \n",
      "Parameters: { \"num_boost_round\" } are not used.\n",
      "\n",
      "  warnings.warn(smsg, UserWarning)\n"
     ]
    },
    {
     "name": "stdout",
     "output_type": "stream",
     "text": [
      "[10]\tTest-mlogloss:1.03573\n",
      "[11]\tTest-mlogloss:1.03057\n",
      "[12]\tTest-mlogloss:1.02544\n",
      "[13]\tTest-mlogloss:1.02043\n",
      "[14]\tTest-mlogloss:1.01542\n",
      "[15]\tTest-mlogloss:1.01055\n",
      "[16]\tTest-mlogloss:1.00568\n",
      "[17]\tTest-mlogloss:1.00096\n",
      "[18]\tTest-mlogloss:0.99623\n",
      "[19]\tTest-mlogloss:0.99163\n",
      "[20]\tTest-mlogloss:0.98704\n",
      "[21]\tTest-mlogloss:0.98258\n",
      "[22]\tTest-mlogloss:0.97812\n",
      "[23]\tTest-mlogloss:0.97375\n",
      "[24]\tTest-mlogloss:0.96948\n",
      "[25]\tTest-mlogloss:0.96521\n",
      "[26]\tTest-mlogloss:0.96106\n",
      "[27]\tTest-mlogloss:0.95690\n",
      "[28]\tTest-mlogloss:0.95286\n",
      "[29]\tTest-mlogloss:0.94881\n",
      "[30]\tTest-mlogloss:0.94482\n",
      "[31]\tTest-mlogloss:0.94094\n",
      "[32]\tTest-mlogloss:0.93706\n",
      "[33]\tTest-mlogloss:0.93329\n",
      "[34]\tTest-mlogloss:0.92951\n",
      "[35]\tTest-mlogloss:0.92578\n",
      "[36]\tTest-mlogloss:0.92216\n",
      "[37]\tTest-mlogloss:0.91853\n",
      "[38]\tTest-mlogloss:0.91499\n",
      "[39]\tTest-mlogloss:0.91146\n",
      "[40]\tTest-mlogloss:0.90803\n",
      "[41]\tTest-mlogloss:0.90460\n",
      "[42]\tTest-mlogloss:0.90121\n",
      "[43]\tTest-mlogloss:0.89791\n",
      "[44]\tTest-mlogloss:0.89466\n",
      "[45]\tTest-mlogloss:0.89140\n",
      "[46]\tTest-mlogloss:0.88823\n",
      "[47]\tTest-mlogloss:0.88506\n",
      "[48]\tTest-mlogloss:0.88193\n",
      "[49]\tTest-mlogloss:0.87888\n",
      "[50]\tTest-mlogloss:0.87588\n",
      "[51]\tTest-mlogloss:0.87287\n",
      "[52]\tTest-mlogloss:0.86992\n",
      "[53]\tTest-mlogloss:0.86698\n",
      "[54]\tTest-mlogloss:0.86413\n",
      "[55]\tTest-mlogloss:0.86131\n",
      "[56]\tTest-mlogloss:0.85849\n",
      "[57]\tTest-mlogloss:0.85570\n",
      "[58]\tTest-mlogloss:0.85300\n",
      "[59]\tTest-mlogloss:0.85028\n",
      "[60]\tTest-mlogloss:0.84760\n",
      "[61]\tTest-mlogloss:0.84499\n",
      "[62]\tTest-mlogloss:0.84242\n",
      "[63]\tTest-mlogloss:0.83984\n",
      "[64]\tTest-mlogloss:0.83729\n",
      "[65]\tTest-mlogloss:0.83477\n",
      "[66]\tTest-mlogloss:0.83228\n",
      "[67]\tTest-mlogloss:0.82985\n",
      "[68]\tTest-mlogloss:0.82743\n",
      "[69]\tTest-mlogloss:0.82506\n",
      "[70]\tTest-mlogloss:0.82269\n",
      "[71]\tTest-mlogloss:0.82039\n",
      "[72]\tTest-mlogloss:0.81808\n",
      "[73]\tTest-mlogloss:0.81583\n",
      "[74]\tTest-mlogloss:0.81358\n",
      "[75]\tTest-mlogloss:0.81135\n",
      "[76]\tTest-mlogloss:0.80914\n",
      "[77]\tTest-mlogloss:0.80701\n",
      "[78]\tTest-mlogloss:0.80485\n",
      "[79]\tTest-mlogloss:0.80272\n",
      "[80]\tTest-mlogloss:0.80062\n",
      "[81]\tTest-mlogloss:0.79857\n",
      "[82]\tTest-mlogloss:0.79651\n",
      "[83]\tTest-mlogloss:0.79449\n",
      "[84]\tTest-mlogloss:0.79249\n",
      "[85]\tTest-mlogloss:0.79051\n",
      "[86]\tTest-mlogloss:0.78859\n",
      "[87]\tTest-mlogloss:0.78670\n",
      "[88]\tTest-mlogloss:0.78479\n",
      "[89]\tTest-mlogloss:0.78290\n",
      "[90]\tTest-mlogloss:0.78107\n",
      "[91]\tTest-mlogloss:0.77923\n",
      "[92]\tTest-mlogloss:0.77740\n",
      "[93]\tTest-mlogloss:0.77563\n",
      "[94]\tTest-mlogloss:0.77385\n",
      "[95]\tTest-mlogloss:0.77211\n",
      "[96]\tTest-mlogloss:0.77037\n",
      "[97]\tTest-mlogloss:0.76869\n",
      "[98]\tTest-mlogloss:0.76699\n",
      "[99]\tTest-mlogloss:0.76532\n"
     ]
    }
   ],
   "source": [
    "fitted_model,accuracy = tune_model(X_train, y_train, X_val, y_val, best_params, infolist, model = 'XGB')"
   ]
  },
  {
   "cell_type": "code",
   "execution_count": 46,
   "metadata": {},
   "outputs": [
    {
     "data": {
      "text/plain": [
       "0.7289384317261757"
      ]
     },
     "execution_count": 46,
     "metadata": {},
     "output_type": "execute_result"
    }
   ],
   "source": [
    "accuracy"
   ]
  },
  {
   "cell_type": "markdown",
   "metadata": {},
   "source": [
    "# Run validation and print csv"
   ]
  },
  {
   "cell_type": "code",
   "execution_count": 47,
   "metadata": {},
   "outputs": [
    {
     "name": "stdout",
     "output_type": "stream",
     "text": [
      "File saved as data/output/predictions_2024-02-03_12-05-49.csv\n"
     ]
    }
   ],
   "source": [
    "run_and_save(fitted_model,selected_test_df,building_id)"
   ]
  },
  {
   "cell_type": "code",
   "execution_count": null,
   "metadata": {},
   "outputs": [],
   "source": []
  }
 ],
 "metadata": {
  "kernelspec": {
   "display_name": "mario_env",
   "language": "python",
   "name": "python3"
  },
  "language_info": {
   "codemirror_mode": {
    "name": "ipython",
    "version": 3
   },
   "file_extension": ".py",
   "mimetype": "text/x-python",
   "name": "python",
   "nbconvert_exporter": "python",
   "pygments_lexer": "ipython3",
   "version": "3.10.13"
  }
 },
 "nbformat": 4,
 "nbformat_minor": 2
}
