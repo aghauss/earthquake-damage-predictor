{
 "cells": [
  {
   "cell_type": "markdown",
   "metadata": {},
   "source": [
    "## Parameter Tuning (Optional)\n",
    "\n",
    "You can choose to skip the parameter tuning section by setting `skip_parameter_tuning` to `True`. If skipped, the notebook will use default hyperparameters.\n",
    "\n",
    "To run parameter tuning, set `skip_parameter_tuning` to `False`.\n"
   ]
  },
  {
   "cell_type": "code",
   "execution_count": 1,
   "metadata": {},
   "outputs": [],
   "source": [
    "# Add this code at the beginning of your notebook\n",
    "skip_parameter_tuning = True  # Set this to True to skip parameter tuning"
   ]
  },
  {
   "cell_type": "markdown",
   "metadata": {},
   "source": [
    "# Load Functions"
   ]
  },
  {
   "cell_type": "code",
   "execution_count": 2,
   "metadata": {},
   "outputs": [],
   "source": [
    "from src import (FeatureEngineering, FeatureSelection, train_test_split_function, \n",
    "                           check_numerical_columns, find_best_score, run_and_save, \n",
    "                           tune_model, compute_mean_encodings, apply_mean_encodings)"
   ]
  },
  {
   "cell_type": "markdown",
   "metadata": {},
   "source": [
    "# Load Data & Feature Engineering"
   ]
  },
  {
   "cell_type": "code",
   "execution_count": 3,
   "metadata": {},
   "outputs": [],
   "source": [
    "df,test_df = FeatureEngineering(drop_non_numerical=True, drop_empty_rows=True)"
   ]
  },
  {
   "cell_type": "code",
   "execution_count": 4,
   "metadata": {},
   "outputs": [],
   "source": [
    "building_id = test_df.building_id"
   ]
  },
  {
   "cell_type": "code",
   "execution_count": 5,
   "metadata": {},
   "outputs": [],
   "source": [
    "selected_features = df.columns[df.columns != \"building_id\"]"
   ]
  },
  {
   "cell_type": "code",
   "execution_count": 6,
   "metadata": {},
   "outputs": [],
   "source": [
    "# Use list comprehension to remove 'damage_grade' from the list\n",
    "selected_features_test = [feature for feature in selected_features if feature != 'damage_grade']\n",
    "\n",
    "# Assuming FeatureSelection is a function that selects specified features from a dataframe\n",
    "selected_df = FeatureSelection(df, selected_features)\n",
    "selected_test_df = FeatureSelection(test_df, selected_features_test)"
   ]
  },
  {
   "cell_type": "markdown",
   "metadata": {},
   "source": [
    "# Encoding"
   ]
  },
  {
   "cell_type": "code",
   "execution_count": 7,
   "metadata": {},
   "outputs": [],
   "source": [
    "mean_encodings = compute_mean_encodings(dataframe=selected_df,target_variable='damage_grade', columns_to_encode=['geo_level_1_id','geo_level_2_id','geo_level_3_id'])"
   ]
  },
  {
   "cell_type": "code",
   "execution_count": 8,
   "metadata": {},
   "outputs": [],
   "source": [
    "selected_df = apply_mean_encodings(dataframe=selected_df, mean_encodings=mean_encodings)"
   ]
  },
  {
   "cell_type": "code",
   "execution_count": 9,
   "metadata": {},
   "outputs": [],
   "source": [
    "selected_test_df = apply_mean_encodings(dataframe=selected_test_df, mean_encodings=mean_encodings)"
   ]
  },
  {
   "cell_type": "code",
   "execution_count": 10,
   "metadata": {},
   "outputs": [
    {
     "name": "stdout",
     "output_type": "stream",
     "text": [
      "Yes\n"
     ]
    }
   ],
   "source": [
    "check_numerical_columns(selected_df)"
   ]
  },
  {
   "cell_type": "markdown",
   "metadata": {},
   "source": [
    "# Train_Test_Split"
   ]
  },
  {
   "cell_type": "code",
   "execution_count": 11,
   "metadata": {},
   "outputs": [],
   "source": [
    "target_column_name = 'damage_grade'"
   ]
  },
  {
   "cell_type": "code",
   "execution_count": 12,
   "metadata": {},
   "outputs": [],
   "source": [
    "X_train, X_val, y_train, y_val = train_test_split_function(selected_df,target_column_name)"
   ]
  },
  {
   "cell_type": "markdown",
   "metadata": {},
   "source": [
    "# Finding best parameters"
   ]
  },
  {
   "cell_type": "code",
   "execution_count": 13,
   "metadata": {},
   "outputs": [],
   "source": [
    "best_params = find_best_score(X_train, y_train, 2, 10, 2,[0.1,0.01], model='XGB',skip_parameter_tuning=skip_parameter_tuning)"
   ]
  },
  {
   "cell_type": "code",
   "execution_count": 15,
   "metadata": {},
   "outputs": [
    {
     "data": {
      "text/plain": [
       "{'learning_rate': 0.1, 'max_depth': 3, 'n_estimators': 100}"
      ]
     },
     "execution_count": 15,
     "metadata": {},
     "output_type": "execute_result"
    }
   ],
   "source": [
    "best_params"
   ]
  },
  {
   "cell_type": "code",
   "execution_count": 16,
   "metadata": {},
   "outputs": [],
   "source": [
    "infolist = [1,2]"
   ]
  },
  {
   "cell_type": "markdown",
   "metadata": {},
   "source": [
    "# Cross-Validation and Model-Fit"
   ]
  },
  {
   "cell_type": "code",
   "execution_count": 17,
   "metadata": {},
   "outputs": [
    {
     "data": {
      "text/plain": [
       "{'learning_rate': 0.1, 'max_depth': 3, 'n_estimators': 100}"
      ]
     },
     "execution_count": 17,
     "metadata": {},
     "output_type": "execute_result"
    }
   ],
   "source": [
    "best_params"
   ]
  },
  {
   "cell_type": "code",
   "execution_count": 18,
   "metadata": {},
   "outputs": [],
   "source": [
    "infolist = []"
   ]
  },
  {
   "cell_type": "code",
   "execution_count": 19,
   "metadata": {},
   "outputs": [
    {
     "data": {
      "text/html": [
       "<div>\n",
       "<style scoped>\n",
       "    .dataframe tbody tr th:only-of-type {\n",
       "        vertical-align: middle;\n",
       "    }\n",
       "\n",
       "    .dataframe tbody tr th {\n",
       "        vertical-align: top;\n",
       "    }\n",
       "\n",
       "    .dataframe thead th {\n",
       "        text-align: right;\n",
       "    }\n",
       "</style>\n",
       "<table border=\"1\" class=\"dataframe\">\n",
       "  <thead>\n",
       "    <tr style=\"text-align: right;\">\n",
       "      <th></th>\n",
       "      <th>geo_level_1_id</th>\n",
       "      <th>geo_level_2_id</th>\n",
       "      <th>geo_level_3_id</th>\n",
       "      <th>count_floors_pre_eq</th>\n",
       "      <th>age</th>\n",
       "      <th>area_percentage</th>\n",
       "      <th>height_percentage</th>\n",
       "      <th>has_superstructure_adobe_mud</th>\n",
       "      <th>has_superstructure_mud_mortar_stone</th>\n",
       "      <th>has_superstructure_stone_flag</th>\n",
       "      <th>...</th>\n",
       "      <th>has_secondary_use_agriculture</th>\n",
       "      <th>has_secondary_use_hotel</th>\n",
       "      <th>has_secondary_use_rental</th>\n",
       "      <th>has_secondary_use_institution</th>\n",
       "      <th>has_secondary_use_school</th>\n",
       "      <th>has_secondary_use_industry</th>\n",
       "      <th>has_secondary_use_health_post</th>\n",
       "      <th>has_secondary_use_gov_office</th>\n",
       "      <th>has_secondary_use_use_police</th>\n",
       "      <th>has_secondary_use_other</th>\n",
       "    </tr>\n",
       "  </thead>\n",
       "  <tbody>\n",
       "    <tr>\n",
       "      <th>231255</th>\n",
       "      <td>2.563369</td>\n",
       "      <td>2.831224</td>\n",
       "      <td>2.634146</td>\n",
       "      <td>3</td>\n",
       "      <td>5</td>\n",
       "      <td>7</td>\n",
       "      <td>9</td>\n",
       "      <td>0</td>\n",
       "      <td>1</td>\n",
       "      <td>0</td>\n",
       "      <td>...</td>\n",
       "      <td>0</td>\n",
       "      <td>0</td>\n",
       "      <td>0</td>\n",
       "      <td>0</td>\n",
       "      <td>0</td>\n",
       "      <td>0</td>\n",
       "      <td>0</td>\n",
       "      <td>0</td>\n",
       "      <td>0</td>\n",
       "      <td>0</td>\n",
       "    </tr>\n",
       "    <tr>\n",
       "      <th>14355</th>\n",
       "      <td>1.926464</td>\n",
       "      <td>2.131646</td>\n",
       "      <td>2.153846</td>\n",
       "      <td>3</td>\n",
       "      <td>0</td>\n",
       "      <td>9</td>\n",
       "      <td>7</td>\n",
       "      <td>0</td>\n",
       "      <td>1</td>\n",
       "      <td>0</td>\n",
       "      <td>...</td>\n",
       "      <td>0</td>\n",
       "      <td>0</td>\n",
       "      <td>0</td>\n",
       "      <td>0</td>\n",
       "      <td>0</td>\n",
       "      <td>0</td>\n",
       "      <td>0</td>\n",
       "      <td>0</td>\n",
       "      <td>0</td>\n",
       "      <td>0</td>\n",
       "    </tr>\n",
       "    <tr>\n",
       "      <th>159804</th>\n",
       "      <td>2.446457</td>\n",
       "      <td>2.402082</td>\n",
       "      <td>2.526316</td>\n",
       "      <td>2</td>\n",
       "      <td>15</td>\n",
       "      <td>17</td>\n",
       "      <td>5</td>\n",
       "      <td>0</td>\n",
       "      <td>1</td>\n",
       "      <td>0</td>\n",
       "      <td>...</td>\n",
       "      <td>0</td>\n",
       "      <td>0</td>\n",
       "      <td>0</td>\n",
       "      <td>0</td>\n",
       "      <td>0</td>\n",
       "      <td>0</td>\n",
       "      <td>0</td>\n",
       "      <td>0</td>\n",
       "      <td>0</td>\n",
       "      <td>0</td>\n",
       "    </tr>\n",
       "    <tr>\n",
       "      <th>205693</th>\n",
       "      <td>2.297726</td>\n",
       "      <td>2.218579</td>\n",
       "      <td>2.100000</td>\n",
       "      <td>2</td>\n",
       "      <td>10</td>\n",
       "      <td>7</td>\n",
       "      <td>6</td>\n",
       "      <td>0</td>\n",
       "      <td>0</td>\n",
       "      <td>0</td>\n",
       "      <td>...</td>\n",
       "      <td>0</td>\n",
       "      <td>0</td>\n",
       "      <td>0</td>\n",
       "      <td>0</td>\n",
       "      <td>0</td>\n",
       "      <td>0</td>\n",
       "      <td>0</td>\n",
       "      <td>0</td>\n",
       "      <td>0</td>\n",
       "      <td>0</td>\n",
       "    </tr>\n",
       "    <tr>\n",
       "      <th>154754</th>\n",
       "      <td>1.730887</td>\n",
       "      <td>1.649106</td>\n",
       "      <td>1.892086</td>\n",
       "      <td>1</td>\n",
       "      <td>0</td>\n",
       "      <td>8</td>\n",
       "      <td>3</td>\n",
       "      <td>0</td>\n",
       "      <td>0</td>\n",
       "      <td>0</td>\n",
       "      <td>...</td>\n",
       "      <td>0</td>\n",
       "      <td>0</td>\n",
       "      <td>0</td>\n",
       "      <td>0</td>\n",
       "      <td>0</td>\n",
       "      <td>0</td>\n",
       "      <td>0</td>\n",
       "      <td>0</td>\n",
       "      <td>0</td>\n",
       "      <td>0</td>\n",
       "    </tr>\n",
       "    <tr>\n",
       "      <th>...</th>\n",
       "      <td>...</td>\n",
       "      <td>...</td>\n",
       "      <td>...</td>\n",
       "      <td>...</td>\n",
       "      <td>...</td>\n",
       "      <td>...</td>\n",
       "      <td>...</td>\n",
       "      <td>...</td>\n",
       "      <td>...</td>\n",
       "      <td>...</td>\n",
       "      <td>...</td>\n",
       "      <td>...</td>\n",
       "      <td>...</td>\n",
       "      <td>...</td>\n",
       "      <td>...</td>\n",
       "      <td>...</td>\n",
       "      <td>...</td>\n",
       "      <td>...</td>\n",
       "      <td>...</td>\n",
       "      <td>...</td>\n",
       "      <td>...</td>\n",
       "    </tr>\n",
       "    <tr>\n",
       "      <th>11944</th>\n",
       "      <td>1.960755</td>\n",
       "      <td>1.934426</td>\n",
       "      <td>1.500000</td>\n",
       "      <td>2</td>\n",
       "      <td>50</td>\n",
       "      <td>5</td>\n",
       "      <td>5</td>\n",
       "      <td>0</td>\n",
       "      <td>1</td>\n",
       "      <td>0</td>\n",
       "      <td>...</td>\n",
       "      <td>0</td>\n",
       "      <td>0</td>\n",
       "      <td>0</td>\n",
       "      <td>0</td>\n",
       "      <td>0</td>\n",
       "      <td>0</td>\n",
       "      <td>0</td>\n",
       "      <td>0</td>\n",
       "      <td>0</td>\n",
       "      <td>0</td>\n",
       "    </tr>\n",
       "    <tr>\n",
       "      <th>98904</th>\n",
       "      <td>2.485273</td>\n",
       "      <td>2.518519</td>\n",
       "      <td>2.184211</td>\n",
       "      <td>1</td>\n",
       "      <td>5</td>\n",
       "      <td>3</td>\n",
       "      <td>3</td>\n",
       "      <td>0</td>\n",
       "      <td>1</td>\n",
       "      <td>0</td>\n",
       "      <td>...</td>\n",
       "      <td>1</td>\n",
       "      <td>0</td>\n",
       "      <td>0</td>\n",
       "      <td>0</td>\n",
       "      <td>0</td>\n",
       "      <td>0</td>\n",
       "      <td>0</td>\n",
       "      <td>0</td>\n",
       "      <td>0</td>\n",
       "      <td>0</td>\n",
       "    </tr>\n",
       "    <tr>\n",
       "      <th>127191</th>\n",
       "      <td>2.485273</td>\n",
       "      <td>2.699571</td>\n",
       "      <td>2.590909</td>\n",
       "      <td>2</td>\n",
       "      <td>25</td>\n",
       "      <td>5</td>\n",
       "      <td>5</td>\n",
       "      <td>0</td>\n",
       "      <td>1</td>\n",
       "      <td>0</td>\n",
       "      <td>...</td>\n",
       "      <td>0</td>\n",
       "      <td>0</td>\n",
       "      <td>0</td>\n",
       "      <td>0</td>\n",
       "      <td>0</td>\n",
       "      <td>0</td>\n",
       "      <td>0</td>\n",
       "      <td>0</td>\n",
       "      <td>0</td>\n",
       "      <td>0</td>\n",
       "    </tr>\n",
       "    <tr>\n",
       "      <th>165274</th>\n",
       "      <td>1.937656</td>\n",
       "      <td>1.948819</td>\n",
       "      <td>2.029412</td>\n",
       "      <td>2</td>\n",
       "      <td>30</td>\n",
       "      <td>5</td>\n",
       "      <td>5</td>\n",
       "      <td>0</td>\n",
       "      <td>1</td>\n",
       "      <td>0</td>\n",
       "      <td>...</td>\n",
       "      <td>0</td>\n",
       "      <td>0</td>\n",
       "      <td>0</td>\n",
       "      <td>0</td>\n",
       "      <td>0</td>\n",
       "      <td>0</td>\n",
       "      <td>0</td>\n",
       "      <td>0</td>\n",
       "      <td>0</td>\n",
       "      <td>0</td>\n",
       "    </tr>\n",
       "    <tr>\n",
       "      <th>168581</th>\n",
       "      <td>2.341954</td>\n",
       "      <td>2.785156</td>\n",
       "      <td>2.940000</td>\n",
       "      <td>1</td>\n",
       "      <td>90</td>\n",
       "      <td>5</td>\n",
       "      <td>3</td>\n",
       "      <td>0</td>\n",
       "      <td>1</td>\n",
       "      <td>0</td>\n",
       "      <td>...</td>\n",
       "      <td>0</td>\n",
       "      <td>0</td>\n",
       "      <td>0</td>\n",
       "      <td>0</td>\n",
       "      <td>0</td>\n",
       "      <td>0</td>\n",
       "      <td>0</td>\n",
       "      <td>0</td>\n",
       "      <td>0</td>\n",
       "      <td>0</td>\n",
       "    </tr>\n",
       "  </tbody>\n",
       "</table>\n",
       "<p>208480 rows × 30 columns</p>\n",
       "</div>"
      ],
      "text/plain": [
       "        geo_level_1_id  geo_level_2_id  geo_level_3_id  count_floors_pre_eq  \\\n",
       "231255        2.563369        2.831224        2.634146                    3   \n",
       "14355         1.926464        2.131646        2.153846                    3   \n",
       "159804        2.446457        2.402082        2.526316                    2   \n",
       "205693        2.297726        2.218579        2.100000                    2   \n",
       "154754        1.730887        1.649106        1.892086                    1   \n",
       "...                ...             ...             ...                  ...   \n",
       "11944         1.960755        1.934426        1.500000                    2   \n",
       "98904         2.485273        2.518519        2.184211                    1   \n",
       "127191        2.485273        2.699571        2.590909                    2   \n",
       "165274        1.937656        1.948819        2.029412                    2   \n",
       "168581        2.341954        2.785156        2.940000                    1   \n",
       "\n",
       "        age  area_percentage  height_percentage  has_superstructure_adobe_mud  \\\n",
       "231255    5                7                  9                             0   \n",
       "14355     0                9                  7                             0   \n",
       "159804   15               17                  5                             0   \n",
       "205693   10                7                  6                             0   \n",
       "154754    0                8                  3                             0   \n",
       "...     ...              ...                ...                           ...   \n",
       "11944    50                5                  5                             0   \n",
       "98904     5                3                  3                             0   \n",
       "127191   25                5                  5                             0   \n",
       "165274   30                5                  5                             0   \n",
       "168581   90                5                  3                             0   \n",
       "\n",
       "        has_superstructure_mud_mortar_stone  has_superstructure_stone_flag  \\\n",
       "231255                                    1                              0   \n",
       "14355                                     1                              0   \n",
       "159804                                    1                              0   \n",
       "205693                                    0                              0   \n",
       "154754                                    0                              0   \n",
       "...                                     ...                            ...   \n",
       "11944                                     1                              0   \n",
       "98904                                     1                              0   \n",
       "127191                                    1                              0   \n",
       "165274                                    1                              0   \n",
       "168581                                    1                              0   \n",
       "\n",
       "        ...  has_secondary_use_agriculture  has_secondary_use_hotel  \\\n",
       "231255  ...                              0                        0   \n",
       "14355   ...                              0                        0   \n",
       "159804  ...                              0                        0   \n",
       "205693  ...                              0                        0   \n",
       "154754  ...                              0                        0   \n",
       "...     ...                            ...                      ...   \n",
       "11944   ...                              0                        0   \n",
       "98904   ...                              1                        0   \n",
       "127191  ...                              0                        0   \n",
       "165274  ...                              0                        0   \n",
       "168581  ...                              0                        0   \n",
       "\n",
       "        has_secondary_use_rental  has_secondary_use_institution  \\\n",
       "231255                         0                              0   \n",
       "14355                          0                              0   \n",
       "159804                         0                              0   \n",
       "205693                         0                              0   \n",
       "154754                         0                              0   \n",
       "...                          ...                            ...   \n",
       "11944                          0                              0   \n",
       "98904                          0                              0   \n",
       "127191                         0                              0   \n",
       "165274                         0                              0   \n",
       "168581                         0                              0   \n",
       "\n",
       "        has_secondary_use_school  has_secondary_use_industry  \\\n",
       "231255                         0                           0   \n",
       "14355                          0                           0   \n",
       "159804                         0                           0   \n",
       "205693                         0                           0   \n",
       "154754                         0                           0   \n",
       "...                          ...                         ...   \n",
       "11944                          0                           0   \n",
       "98904                          0                           0   \n",
       "127191                         0                           0   \n",
       "165274                         0                           0   \n",
       "168581                         0                           0   \n",
       "\n",
       "        has_secondary_use_health_post  has_secondary_use_gov_office  \\\n",
       "231255                              0                             0   \n",
       "14355                               0                             0   \n",
       "159804                              0                             0   \n",
       "205693                              0                             0   \n",
       "154754                              0                             0   \n",
       "...                               ...                           ...   \n",
       "11944                               0                             0   \n",
       "98904                               0                             0   \n",
       "127191                              0                             0   \n",
       "165274                              0                             0   \n",
       "168581                              0                             0   \n",
       "\n",
       "        has_secondary_use_use_police  has_secondary_use_other  \n",
       "231255                             0                        0  \n",
       "14355                              0                        0  \n",
       "159804                             0                        0  \n",
       "205693                             0                        0  \n",
       "154754                             0                        0  \n",
       "...                              ...                      ...  \n",
       "11944                              0                        0  \n",
       "98904                              0                        0  \n",
       "127191                             0                        0  \n",
       "165274                             0                        0  \n",
       "168581                             0                        0  \n",
       "\n",
       "[208480 rows x 30 columns]"
      ]
     },
     "execution_count": 19,
     "metadata": {},
     "output_type": "execute_result"
    }
   ],
   "source": [
    "X_train"
   ]
  },
  {
   "cell_type": "code",
   "execution_count": 20,
   "metadata": {},
   "outputs": [
    {
     "name": "stdout",
     "output_type": "stream",
     "text": [
      "[0]\tTest-mlogloss:1.03535\n",
      "[1]\tTest-mlogloss:0.98199\n",
      "[2]\tTest-mlogloss:0.93611\n",
      "[3]\tTest-mlogloss:0.89653\n",
      "[4]\tTest-mlogloss:0.86249\n",
      "[5]\tTest-mlogloss:0.83258\n",
      "[6]\tTest-mlogloss:0.80637\n",
      "[7]\tTest-mlogloss:0.78327\n",
      "[8]\tTest-mlogloss:0.76308\n",
      "[9]\tTest-mlogloss:0.74503\n"
     ]
    },
    {
     "name": "stderr",
     "output_type": "stream",
     "text": [
      "/Users/aghauss/Desktop/git_collector/Earthquake-challenge/new_env/lib/python3.10/site-packages/xgboost/core.py:160: UserWarning: [12:24:05] WARNING: /Users/runner/work/xgboost/xgboost/src/learner.cc:742: \n",
      "Parameters: { \"n_estimators\" } are not used.\n",
      "\n",
      "  warnings.warn(smsg, UserWarning)\n"
     ]
    },
    {
     "name": "stdout",
     "output_type": "stream",
     "text": [
      "[10]\tTest-mlogloss:0.72928\n",
      "[11]\tTest-mlogloss:0.71525\n",
      "[12]\tTest-mlogloss:0.70275\n",
      "[13]\tTest-mlogloss:0.69167\n",
      "[14]\tTest-mlogloss:0.68165\n",
      "[15]\tTest-mlogloss:0.67271\n",
      "[16]\tTest-mlogloss:0.66455\n",
      "[17]\tTest-mlogloss:0.65719\n",
      "[18]\tTest-mlogloss:0.65071\n",
      "[19]\tTest-mlogloss:0.64465\n",
      "[20]\tTest-mlogloss:0.63927\n",
      "[21]\tTest-mlogloss:0.63426\n",
      "[22]\tTest-mlogloss:0.62959\n",
      "[23]\tTest-mlogloss:0.62539\n",
      "[24]\tTest-mlogloss:0.62155\n",
      "[25]\tTest-mlogloss:0.61808\n",
      "[26]\tTest-mlogloss:0.61483\n",
      "[27]\tTest-mlogloss:0.61185\n",
      "[28]\tTest-mlogloss:0.60911\n",
      "[29]\tTest-mlogloss:0.60655\n",
      "[30]\tTest-mlogloss:0.60416\n",
      "[31]\tTest-mlogloss:0.60201\n",
      "[32]\tTest-mlogloss:0.59992\n",
      "[33]\tTest-mlogloss:0.59802\n",
      "[34]\tTest-mlogloss:0.59615\n",
      "[35]\tTest-mlogloss:0.59443\n",
      "[36]\tTest-mlogloss:0.59281\n",
      "[37]\tTest-mlogloss:0.59128\n",
      "[38]\tTest-mlogloss:0.58984\n",
      "[39]\tTest-mlogloss:0.58850\n",
      "[40]\tTest-mlogloss:0.58718\n",
      "[41]\tTest-mlogloss:0.58584\n",
      "[42]\tTest-mlogloss:0.58469\n",
      "[43]\tTest-mlogloss:0.58358\n",
      "[44]\tTest-mlogloss:0.58259\n",
      "[45]\tTest-mlogloss:0.58164\n",
      "[46]\tTest-mlogloss:0.58071\n",
      "[47]\tTest-mlogloss:0.57989\n",
      "[48]\tTest-mlogloss:0.57902\n",
      "[49]\tTest-mlogloss:0.57828\n",
      "[50]\tTest-mlogloss:0.57757\n",
      "[51]\tTest-mlogloss:0.57685\n",
      "[52]\tTest-mlogloss:0.57622\n",
      "[53]\tTest-mlogloss:0.57565\n",
      "[54]\tTest-mlogloss:0.57498\n",
      "[55]\tTest-mlogloss:0.57441\n",
      "[56]\tTest-mlogloss:0.57382\n",
      "[57]\tTest-mlogloss:0.57336\n",
      "[58]\tTest-mlogloss:0.57288\n",
      "[59]\tTest-mlogloss:0.57236\n",
      "[60]\tTest-mlogloss:0.57193\n",
      "[61]\tTest-mlogloss:0.57149\n",
      "[62]\tTest-mlogloss:0.57101\n",
      "[63]\tTest-mlogloss:0.57061\n",
      "[64]\tTest-mlogloss:0.57014\n",
      "[65]\tTest-mlogloss:0.56978\n",
      "[66]\tTest-mlogloss:0.56939\n",
      "[67]\tTest-mlogloss:0.56906\n",
      "[68]\tTest-mlogloss:0.56875\n",
      "[69]\tTest-mlogloss:0.56842\n",
      "[70]\tTest-mlogloss:0.56815\n",
      "[71]\tTest-mlogloss:0.56783\n",
      "[72]\tTest-mlogloss:0.56747\n",
      "[73]\tTest-mlogloss:0.56723\n",
      "[74]\tTest-mlogloss:0.56702\n",
      "[75]\tTest-mlogloss:0.56670\n",
      "[76]\tTest-mlogloss:0.56640\n",
      "[77]\tTest-mlogloss:0.56615\n",
      "[78]\tTest-mlogloss:0.56592\n",
      "[79]\tTest-mlogloss:0.56566\n",
      "[80]\tTest-mlogloss:0.56545\n",
      "[81]\tTest-mlogloss:0.56522\n",
      "[82]\tTest-mlogloss:0.56501\n",
      "[83]\tTest-mlogloss:0.56483\n",
      "[84]\tTest-mlogloss:0.56464\n",
      "[85]\tTest-mlogloss:0.56443\n",
      "[86]\tTest-mlogloss:0.56427\n",
      "[87]\tTest-mlogloss:0.56411\n",
      "[88]\tTest-mlogloss:0.56392\n",
      "[89]\tTest-mlogloss:0.56372\n",
      "[90]\tTest-mlogloss:0.56354\n",
      "[91]\tTest-mlogloss:0.56332\n",
      "[92]\tTest-mlogloss:0.56319\n",
      "[93]\tTest-mlogloss:0.56303\n",
      "[94]\tTest-mlogloss:0.56290\n",
      "[95]\tTest-mlogloss:0.56273\n",
      "[96]\tTest-mlogloss:0.56257\n",
      "[97]\tTest-mlogloss:0.56240\n",
      "[98]\tTest-mlogloss:0.56228\n",
      "[99]\tTest-mlogloss:0.56218\n"
     ]
    }
   ],
   "source": [
    "fitted_model,accuracy = tune_model(X_train, y_train, X_val, y_val, best_params, infolist, model = 'XGB')"
   ]
  },
  {
   "cell_type": "code",
   "execution_count": 21,
   "metadata": {},
   "outputs": [
    {
     "data": {
      "text/plain": [
       "0.749045490301414"
      ]
     },
     "execution_count": 21,
     "metadata": {},
     "output_type": "execute_result"
    }
   ],
   "source": [
    "accuracy"
   ]
  },
  {
   "cell_type": "markdown",
   "metadata": {},
   "source": [
    "# Run validation and print csv"
   ]
  },
  {
   "cell_type": "code",
   "execution_count": 22,
   "metadata": {},
   "outputs": [
    {
     "name": "stdout",
     "output_type": "stream",
     "text": [
      "File saved as data/output/predictions_2024-02-03_12-24-11.csv\n"
     ]
    }
   ],
   "source": [
    "run_and_save(fitted_model,selected_test_df,building_id)"
   ]
  },
  {
   "cell_type": "code",
   "execution_count": null,
   "metadata": {},
   "outputs": [],
   "source": []
  }
 ],
 "metadata": {
  "kernelspec": {
   "display_name": "mario_env",
   "language": "python",
   "name": "python3"
  },
  "language_info": {
   "codemirror_mode": {
    "name": "ipython",
    "version": 3
   },
   "file_extension": ".py",
   "mimetype": "text/x-python",
   "name": "python",
   "nbconvert_exporter": "python",
   "pygments_lexer": "ipython3",
   "version": "3.10.13"
  }
 },
 "nbformat": 4,
 "nbformat_minor": 2
}
