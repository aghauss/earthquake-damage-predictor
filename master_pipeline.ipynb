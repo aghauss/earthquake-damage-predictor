{
 "cells": [
  {
   "cell_type": "markdown",
   "metadata": {},
   "source": [
    "# Load Functions"
   ]
  },
  {
   "cell_type": "code",
   "execution_count": 18,
   "metadata": {},
   "outputs": [],
   "source": [
    "from src import (FeatureEngineering, FeatureSelection, train_test_split_function, \n",
    "                           check_numerical_columns, find_best_score, run_and_save, \n",
    "                           tune_model, compute_mean_encodings, apply_mean_encodings,perform_parameter_tuning)"
   ]
  },
  {
   "cell_type": "markdown",
   "metadata": {},
   "source": [
    "## Parameter Tuning (Optional)\n",
    "\n",
    "You can choose to skip the parameter tuning section by setting `skip_parameter_tuning` to `True`. If skipped, the notebook will use default hyperparameters.\n",
    "\n",
    "To run parameter tuning, set `skip_parameter_tuning` to `False`.\n"
   ]
  },
  {
   "cell_type": "code",
   "execution_count": 19,
   "metadata": {},
   "outputs": [
    {
     "name": "stdout",
     "output_type": "stream",
     "text": [
      "Parameter tuning skipped. Using default hyperparameters.\n"
     ]
    }
   ],
   "source": [
    "if __name__ == \"__main__\":\n",
    "    # You can choose to skip parameter tuning by setting skip_parameter_tuning=True or False\n",
    "    skip_parameter_tuning = True  # Set this to your desired value\n",
    "    parameter_tuning_result = perform_parameter_tuning(skip_parameter_tuning=skip_parameter_tuning)"
   ]
  },
  {
   "cell_type": "markdown",
   "metadata": {},
   "source": [
    "# Load Data & Feature Engineering"
   ]
  },
  {
   "cell_type": "code",
   "execution_count": 20,
   "metadata": {},
   "outputs": [],
   "source": [
    "df,test_df = FeatureEngineering(drop_non_numerical=True, drop_empty_rows=True)"
   ]
  },
  {
   "cell_type": "code",
   "execution_count": 21,
   "metadata": {},
   "outputs": [],
   "source": [
    "building_id = test_df.building_id"
   ]
  },
  {
   "cell_type": "code",
   "execution_count": 22,
   "metadata": {},
   "outputs": [],
   "source": [
    "selected_features = df.columns[df.columns != \"building_id\"]"
   ]
  },
  {
   "cell_type": "code",
   "execution_count": 23,
   "metadata": {},
   "outputs": [],
   "source": [
    "# Use list comprehension to remove 'damage_grade' from the list\n",
    "selected_features_test = [feature for feature in selected_features if feature != 'damage_grade']\n",
    "\n",
    "# Assuming FeatureSelection is a function that selects specified features from a dataframe\n",
    "selected_df = FeatureSelection(df, selected_features)\n",
    "selected_test_df = FeatureSelection(test_df, selected_features_test)"
   ]
  },
  {
   "cell_type": "markdown",
   "metadata": {},
   "source": [
    "# Encoding"
   ]
  },
  {
   "cell_type": "code",
   "execution_count": 24,
   "metadata": {},
   "outputs": [],
   "source": [
    "mean_encodings = compute_mean_encodings(dataframe=selected_df,target_variable='damage_grade', columns_to_encode=['geo_level_1_id','geo_level_2_id','geo_level_3_id'])"
   ]
  },
  {
   "cell_type": "code",
   "execution_count": 25,
   "metadata": {},
   "outputs": [],
   "source": [
    "selected_df = apply_mean_encodings(dataframe=selected_df, mean_encodings=mean_encodings)"
   ]
  },
  {
   "cell_type": "code",
   "execution_count": 26,
   "metadata": {},
   "outputs": [],
   "source": [
    "selected_test_df = apply_mean_encodings(dataframe=selected_test_df, mean_encodings=mean_encodings)"
   ]
  },
  {
   "cell_type": "code",
   "execution_count": 27,
   "metadata": {},
   "outputs": [
    {
     "name": "stdout",
     "output_type": "stream",
     "text": [
      "Yes\n"
     ]
    }
   ],
   "source": [
    "check_numerical_columns(selected_df)"
   ]
  },
  {
   "cell_type": "markdown",
   "metadata": {},
   "source": [
    "# Train_Test_Split"
   ]
  },
  {
   "cell_type": "code",
   "execution_count": 28,
   "metadata": {},
   "outputs": [],
   "source": [
    "target_column_name = 'damage_grade'"
   ]
  },
  {
   "cell_type": "code",
   "execution_count": 29,
   "metadata": {},
   "outputs": [],
   "source": [
    "X_train, X_val, y_train, y_val = train_test_split_function(selected_df,target_column_name)"
   ]
  },
  {
   "cell_type": "markdown",
   "metadata": {},
   "source": [
    "# Finding best parameters"
   ]
  },
  {
   "cell_type": "code",
   "execution_count": 30,
   "metadata": {},
   "outputs": [],
   "source": [
    "best_params = find_best_score(X_train, y_train, 2, 10, 2,[0.1,0.01], model='XGB',skip_parameter_tuning=skip_parameter_tuning)"
   ]
  },
  {
   "cell_type": "code",
   "execution_count": 31,
   "metadata": {},
   "outputs": [
    {
     "data": {
      "text/plain": [
       "{'learning_rate': 0.1, 'max_depth': 3, 'n_estimators': 100}"
      ]
     },
     "execution_count": 31,
     "metadata": {},
     "output_type": "execute_result"
    }
   ],
   "source": [
    "best_params"
   ]
  },
  {
   "cell_type": "markdown",
   "metadata": {},
   "source": [
    "# Cross-Validation and Model-Fit"
   ]
  },
  {
   "cell_type": "code",
   "execution_count": 32,
   "metadata": {},
   "outputs": [
    {
     "name": "stdout",
     "output_type": "stream",
     "text": [
      "[0]\tTest-mlogloss:1.03592\n",
      "[1]\tTest-mlogloss:0.98283\n"
     ]
    },
    {
     "name": "stderr",
     "output_type": "stream",
     "text": [
      "/Users/aghauss/Desktop/git_collector/Earthquake-challenge/new_env/lib/python3.10/site-packages/xgboost/core.py:160: UserWarning: [12:47:11] WARNING: /Users/runner/work/xgboost/xgboost/src/learner.cc:742: \n",
      "Parameters: { \"n_estimators\" } are not used.\n",
      "\n",
      "  warnings.warn(smsg, UserWarning)\n"
     ]
    },
    {
     "name": "stdout",
     "output_type": "stream",
     "text": [
      "[2]\tTest-mlogloss:0.93765\n",
      "[3]\tTest-mlogloss:0.89851\n",
      "[4]\tTest-mlogloss:0.86480\n",
      "[5]\tTest-mlogloss:0.83521\n",
      "[6]\tTest-mlogloss:0.80947\n",
      "[7]\tTest-mlogloss:0.78674\n",
      "[8]\tTest-mlogloss:0.76671\n",
      "[9]\tTest-mlogloss:0.74919\n",
      "[10]\tTest-mlogloss:0.73357\n",
      "[11]\tTest-mlogloss:0.71963\n",
      "[12]\tTest-mlogloss:0.70719\n",
      "[13]\tTest-mlogloss:0.69618\n",
      "[14]\tTest-mlogloss:0.68649\n",
      "[15]\tTest-mlogloss:0.67782\n",
      "[16]\tTest-mlogloss:0.66990\n",
      "[17]\tTest-mlogloss:0.66271\n",
      "[18]\tTest-mlogloss:0.65629\n",
      "[19]\tTest-mlogloss:0.65041\n",
      "[20]\tTest-mlogloss:0.64514\n",
      "[21]\tTest-mlogloss:0.64019\n",
      "[22]\tTest-mlogloss:0.63575\n",
      "[23]\tTest-mlogloss:0.63170\n",
      "[24]\tTest-mlogloss:0.62802\n",
      "[25]\tTest-mlogloss:0.62460\n",
      "[26]\tTest-mlogloss:0.62154\n",
      "[27]\tTest-mlogloss:0.61866\n",
      "[28]\tTest-mlogloss:0.61596\n",
      "[29]\tTest-mlogloss:0.61354\n",
      "[30]\tTest-mlogloss:0.61118\n",
      "[31]\tTest-mlogloss:0.60908\n",
      "[32]\tTest-mlogloss:0.60701\n",
      "[33]\tTest-mlogloss:0.60510\n",
      "[34]\tTest-mlogloss:0.60340\n",
      "[35]\tTest-mlogloss:0.60169\n",
      "[36]\tTest-mlogloss:0.60017\n",
      "[37]\tTest-mlogloss:0.59867\n",
      "[38]\tTest-mlogloss:0.59735\n",
      "[39]\tTest-mlogloss:0.59599\n",
      "[40]\tTest-mlogloss:0.59475\n",
      "[41]\tTest-mlogloss:0.59359\n",
      "[42]\tTest-mlogloss:0.59249\n",
      "[43]\tTest-mlogloss:0.59144\n",
      "[44]\tTest-mlogloss:0.59047\n",
      "[45]\tTest-mlogloss:0.58955\n",
      "[46]\tTest-mlogloss:0.58867\n",
      "[47]\tTest-mlogloss:0.58786\n",
      "[48]\tTest-mlogloss:0.58710\n",
      "[49]\tTest-mlogloss:0.58641\n",
      "[50]\tTest-mlogloss:0.58566\n",
      "[51]\tTest-mlogloss:0.58496\n",
      "[52]\tTest-mlogloss:0.58433\n",
      "[53]\tTest-mlogloss:0.58380\n",
      "[54]\tTest-mlogloss:0.58323\n",
      "[55]\tTest-mlogloss:0.58272\n",
      "[56]\tTest-mlogloss:0.58224\n",
      "[57]\tTest-mlogloss:0.58171\n",
      "[58]\tTest-mlogloss:0.58125\n",
      "[59]\tTest-mlogloss:0.58079\n",
      "[60]\tTest-mlogloss:0.58039\n",
      "[61]\tTest-mlogloss:0.57998\n",
      "[62]\tTest-mlogloss:0.57965\n",
      "[63]\tTest-mlogloss:0.57922\n",
      "[64]\tTest-mlogloss:0.57888\n",
      "[65]\tTest-mlogloss:0.57854\n",
      "[66]\tTest-mlogloss:0.57823\n",
      "[67]\tTest-mlogloss:0.57784\n",
      "[68]\tTest-mlogloss:0.57756\n",
      "[69]\tTest-mlogloss:0.57727\n",
      "[70]\tTest-mlogloss:0.57696\n",
      "[71]\tTest-mlogloss:0.57665\n",
      "[72]\tTest-mlogloss:0.57627\n",
      "[73]\tTest-mlogloss:0.57598\n",
      "[74]\tTest-mlogloss:0.57571\n",
      "[75]\tTest-mlogloss:0.57549\n",
      "[76]\tTest-mlogloss:0.57528\n",
      "[77]\tTest-mlogloss:0.57502\n",
      "[78]\tTest-mlogloss:0.57480\n",
      "[79]\tTest-mlogloss:0.57451\n",
      "[80]\tTest-mlogloss:0.57429\n",
      "[81]\tTest-mlogloss:0.57409\n",
      "[82]\tTest-mlogloss:0.57390\n",
      "[83]\tTest-mlogloss:0.57373\n",
      "[84]\tTest-mlogloss:0.57351\n",
      "[85]\tTest-mlogloss:0.57330\n",
      "[86]\tTest-mlogloss:0.57313\n",
      "[87]\tTest-mlogloss:0.57299\n",
      "[88]\tTest-mlogloss:0.57284\n",
      "[89]\tTest-mlogloss:0.57264\n",
      "[90]\tTest-mlogloss:0.57250\n",
      "[91]\tTest-mlogloss:0.57227\n",
      "[92]\tTest-mlogloss:0.57214\n",
      "[93]\tTest-mlogloss:0.57199\n",
      "[94]\tTest-mlogloss:0.57189\n",
      "[95]\tTest-mlogloss:0.57174\n",
      "[96]\tTest-mlogloss:0.57161\n",
      "[97]\tTest-mlogloss:0.57141\n",
      "[98]\tTest-mlogloss:0.57124\n",
      "[99]\tTest-mlogloss:0.57104\n"
     ]
    }
   ],
   "source": [
    "fitted_model,accuracy = tune_model(X_train, y_train, X_val, y_val, best_params, model = 'XGB')"
   ]
  },
  {
   "cell_type": "code",
   "execution_count": 33,
   "metadata": {},
   "outputs": [
    {
     "data": {
      "text/plain": [
       "0.7440379117821991"
      ]
     },
     "execution_count": 33,
     "metadata": {},
     "output_type": "execute_result"
    }
   ],
   "source": [
    "accuracy"
   ]
  },
  {
   "cell_type": "markdown",
   "metadata": {},
   "source": [
    "# Run validation and print csv"
   ]
  },
  {
   "cell_type": "code",
   "execution_count": 34,
   "metadata": {},
   "outputs": [
    {
     "name": "stdout",
     "output_type": "stream",
     "text": [
      "File saved as data/output/predictions_2024-02-03_12-47-16.csv\n"
     ]
    }
   ],
   "source": [
    "run_and_save(fitted_model,selected_test_df,building_id)"
   ]
  }
 ],
 "metadata": {
  "kernelspec": {
   "display_name": "mario_env",
   "language": "python",
   "name": "python3"
  },
  "language_info": {
   "codemirror_mode": {
    "name": "ipython",
    "version": 3
   },
   "file_extension": ".py",
   "mimetype": "text/x-python",
   "name": "python",
   "nbconvert_exporter": "python",
   "pygments_lexer": "ipython3",
   "version": "3.10.13"
  }
 },
 "nbformat": 4,
 "nbformat_minor": 2
}
