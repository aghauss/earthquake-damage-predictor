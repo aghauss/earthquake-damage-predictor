{
 "cells": [
  {
   "cell_type": "markdown",
   "metadata": {},
   "source": [
    "# Load Functions"
   ]
  },
  {
   "cell_type": "code",
   "execution_count": 2,
   "metadata": {},
   "outputs": [],
   "source": [
    "from scripts import (FeatureEngineering, FeatureSelection, train_test_split_function, \n",
    "                           check_numerical_columns, find_best_score, run_and_save, \n",
    "                           tune_model, compute_mean_encodings, apply_mean_encodings)"
   ]
  },
  {
   "cell_type": "markdown",
   "metadata": {},
   "source": [
    "# Load Data & Feature Engineering"
   ]
  },
  {
   "cell_type": "code",
   "execution_count": 52,
   "metadata": {},
   "outputs": [],
   "source": [
    "df,test_df = FeatureEngineering(drop_non_numerical=True, drop_empty_rows=True)"
   ]
  },
  {
   "cell_type": "code",
   "execution_count": 53,
   "metadata": {},
   "outputs": [],
   "source": [
    "building_id = test_df.building_id"
   ]
  },
  {
   "cell_type": "code",
   "execution_count": 54,
   "metadata": {},
   "outputs": [],
   "source": [
    "selected_features = df.columns"
   ]
  },
  {
   "cell_type": "code",
   "execution_count": 55,
   "metadata": {},
   "outputs": [],
   "source": [
    "# Use list comprehension to remove 'damage_grade' from the list\n",
    "selected_features_test = [feature for feature in selected_features if feature != 'damage_grade']\n",
    "\n",
    "# Assuming FeatureSelection is a function that selects specified features from a dataframe\n",
    "selected_df = FeatureSelection(df, selected_features)\n",
    "selected_test_df = FeatureSelection(test_df, selected_features_test)"
   ]
  },
  {
   "cell_type": "markdown",
   "metadata": {},
   "source": [
    "# Encoding"
   ]
  },
  {
   "cell_type": "code",
   "execution_count": 56,
   "metadata": {},
   "outputs": [],
   "source": [
    "mean_encodings = compute_mean_encodings(dataframe=selected_df,target_variable='damage_grade', columns_to_encode=['geo_level_1_id','geo_level_2_id','geo_level_3_id'])"
   ]
  },
  {
   "cell_type": "code",
   "execution_count": 57,
   "metadata": {},
   "outputs": [],
   "source": [
    "selected_df = apply_mean_encodings(dataframe=selected_df, mean_encodings=mean_encodings)"
   ]
  },
  {
   "cell_type": "code",
   "execution_count": 58,
   "metadata": {},
   "outputs": [],
   "source": [
    "selected_test_df = apply_mean_encodings(dataframe=selected_test_df, mean_encodings=mean_encodings)"
   ]
  },
  {
   "cell_type": "code",
   "execution_count": 59,
   "metadata": {},
   "outputs": [
    {
     "name": "stdout",
     "output_type": "stream",
     "text": [
      "Yes\n"
     ]
    }
   ],
   "source": [
    "check_numerical_columns(selected_df)"
   ]
  },
  {
   "cell_type": "markdown",
   "metadata": {},
   "source": [
    "# Train_Test_Split"
   ]
  },
  {
   "cell_type": "code",
   "execution_count": 60,
   "metadata": {},
   "outputs": [],
   "source": [
    "target_column_name = 'damage_grade'"
   ]
  },
  {
   "cell_type": "code",
   "execution_count": 61,
   "metadata": {},
   "outputs": [],
   "source": [
    "X_train, X_val, y_train, y_val = train_test_split_function(selected_df,target_column_name)"
   ]
  },
  {
   "cell_type": "markdown",
   "metadata": {},
   "source": [
    "# Finding best parameters"
   ]
  },
  {
   "cell_type": "code",
   "execution_count": 24,
   "metadata": {},
   "outputs": [],
   "source": [
    "results = find_best_score(X_train, y_train, 2, 10, 2,[0.1,0.01], model='XGB')"
   ]
  },
  {
   "cell_type": "code",
   "execution_count": 62,
   "metadata": {},
   "outputs": [
    {
     "name": "stdout",
     "output_type": "stream",
     "text": [
      "Best Hyperparameters: {'num_class': 3, 'max_depth': 2, 'learning_rate': 0.01, 'num_boost_round': 100}\n",
      "Best Score: 0.7672138164460327\n"
     ]
    }
   ],
   "source": [
    "best_params = None\n",
    "best_score = float('-inf')  # Initialize to negative infinity\n",
    "\n",
    "for key, (params, score) in results.items():\n",
    "    if score > best_score:\n",
    "        best_score = score\n",
    "        best_params = params\n",
    "\n",
    "print(\"Best Hyperparameters:\", best_params)\n",
    "print(\"Best Score:\", best_score)"
   ]
  },
  {
   "cell_type": "code",
   "execution_count": 63,
   "metadata": {},
   "outputs": [],
   "source": [
    "infolist = [1,2]"
   ]
  },
  {
   "cell_type": "markdown",
   "metadata": {},
   "source": [
    "# Cross-Validation and Model-Fit"
   ]
  },
  {
   "cell_type": "code",
   "execution_count": 64,
   "metadata": {},
   "outputs": [
    {
     "data": {
      "text/plain": [
       "{'num_class': 3, 'max_depth': 2, 'learning_rate': 0.01, 'num_boost_round': 100}"
      ]
     },
     "execution_count": 64,
     "metadata": {},
     "output_type": "execute_result"
    }
   ],
   "source": [
    "best_params"
   ]
  },
  {
   "cell_type": "code",
   "execution_count": 65,
   "metadata": {},
   "outputs": [],
   "source": [
    "infolist = []"
   ]
  },
  {
   "cell_type": "code",
   "execution_count": 66,
   "metadata": {},
   "outputs": [
    {
     "name": "stdout",
     "output_type": "stream",
     "text": [
      "[0]\tTest-mlogloss:1.09243\n",
      "[1]\tTest-mlogloss:1.08634\n",
      "[2]\tTest-mlogloss:1.08035\n",
      "[3]\tTest-mlogloss:1.07446\n",
      "[4]\tTest-mlogloss:1.06866\n",
      "[5]\tTest-mlogloss:1.06297\n",
      "[6]\tTest-mlogloss:1.05735\n",
      "[7]\tTest-mlogloss:1.05182\n",
      "[8]\tTest-mlogloss:1.04637\n",
      "[9]\tTest-mlogloss:1.04101\n"
     ]
    },
    {
     "name": "stderr",
     "output_type": "stream",
     "text": [
      "/Users/aghauss/anaconda3/envs/mario_env/lib/python3.11/site-packages/xgboost/core.py:160: UserWarning: [11:07:22] WARNING: /Users/runner/work/xgboost/xgboost/src/learner.cc:742: \n",
      "Parameters: { \"num_boost_round\" } are not used.\n",
      "\n",
      "  warnings.warn(smsg, UserWarning)\n"
     ]
    },
    {
     "name": "stdout",
     "output_type": "stream",
     "text": [
      "[10]\tTest-mlogloss:1.03573\n",
      "[11]\tTest-mlogloss:1.03057\n",
      "[12]\tTest-mlogloss:1.02544\n",
      "[13]\tTest-mlogloss:1.02043\n",
      "[14]\tTest-mlogloss:1.01542\n",
      "[15]\tTest-mlogloss:1.01055\n",
      "[16]\tTest-mlogloss:1.00568\n",
      "[17]\tTest-mlogloss:1.00096\n",
      "[18]\tTest-mlogloss:0.99623\n",
      "[19]\tTest-mlogloss:0.99163\n",
      "[20]\tTest-mlogloss:0.98704\n",
      "[21]\tTest-mlogloss:0.98258\n",
      "[22]\tTest-mlogloss:0.97812\n",
      "[23]\tTest-mlogloss:0.97375\n",
      "[24]\tTest-mlogloss:0.96948\n",
      "[25]\tTest-mlogloss:0.96521\n",
      "[26]\tTest-mlogloss:0.96106\n",
      "[27]\tTest-mlogloss:0.95690\n",
      "[28]\tTest-mlogloss:0.95286\n",
      "[29]\tTest-mlogloss:0.94881\n",
      "[30]\tTest-mlogloss:0.94482\n",
      "[31]\tTest-mlogloss:0.94094\n",
      "[32]\tTest-mlogloss:0.93706\n",
      "[33]\tTest-mlogloss:0.93329\n",
      "[34]\tTest-mlogloss:0.92951\n",
      "[35]\tTest-mlogloss:0.92578\n",
      "[36]\tTest-mlogloss:0.92216\n",
      "[37]\tTest-mlogloss:0.91853\n",
      "[38]\tTest-mlogloss:0.91499\n",
      "[39]\tTest-mlogloss:0.91146\n",
      "[40]\tTest-mlogloss:0.90803\n",
      "[41]\tTest-mlogloss:0.90460\n",
      "[42]\tTest-mlogloss:0.90121\n",
      "[43]\tTest-mlogloss:0.89791\n",
      "[44]\tTest-mlogloss:0.89466\n",
      "[45]\tTest-mlogloss:0.89140\n",
      "[46]\tTest-mlogloss:0.88823\n",
      "[47]\tTest-mlogloss:0.88506\n",
      "[48]\tTest-mlogloss:0.88193\n",
      "[49]\tTest-mlogloss:0.87888\n",
      "[50]\tTest-mlogloss:0.87588\n",
      "[51]\tTest-mlogloss:0.87287\n",
      "[52]\tTest-mlogloss:0.86992\n",
      "[53]\tTest-mlogloss:0.86698\n",
      "[54]\tTest-mlogloss:0.86413\n",
      "[55]\tTest-mlogloss:0.86131\n",
      "[56]\tTest-mlogloss:0.85849\n",
      "[57]\tTest-mlogloss:0.85570\n",
      "[58]\tTest-mlogloss:0.85300\n",
      "[59]\tTest-mlogloss:0.85028\n",
      "[60]\tTest-mlogloss:0.84760\n",
      "[61]\tTest-mlogloss:0.84499\n",
      "[62]\tTest-mlogloss:0.84242\n",
      "[63]\tTest-mlogloss:0.83984\n",
      "[64]\tTest-mlogloss:0.83729\n",
      "[65]\tTest-mlogloss:0.83477\n",
      "[66]\tTest-mlogloss:0.83228\n",
      "[67]\tTest-mlogloss:0.82985\n",
      "[68]\tTest-mlogloss:0.82743\n",
      "[69]\tTest-mlogloss:0.82506\n",
      "[70]\tTest-mlogloss:0.82269\n",
      "[71]\tTest-mlogloss:0.82039\n",
      "[72]\tTest-mlogloss:0.81808\n",
      "[73]\tTest-mlogloss:0.81583\n",
      "[74]\tTest-mlogloss:0.81358\n",
      "[75]\tTest-mlogloss:0.81135\n",
      "[76]\tTest-mlogloss:0.80914\n",
      "[77]\tTest-mlogloss:0.80701\n",
      "[78]\tTest-mlogloss:0.80485\n",
      "[79]\tTest-mlogloss:0.80272\n",
      "[80]\tTest-mlogloss:0.80062\n",
      "[81]\tTest-mlogloss:0.79857\n",
      "[82]\tTest-mlogloss:0.79651\n",
      "[83]\tTest-mlogloss:0.79449\n",
      "[84]\tTest-mlogloss:0.79249\n",
      "[85]\tTest-mlogloss:0.79051\n",
      "[86]\tTest-mlogloss:0.78859\n",
      "[87]\tTest-mlogloss:0.78670\n",
      "[88]\tTest-mlogloss:0.78479\n",
      "[89]\tTest-mlogloss:0.78290\n",
      "[90]\tTest-mlogloss:0.78107\n",
      "[91]\tTest-mlogloss:0.77923\n",
      "[92]\tTest-mlogloss:0.77740\n",
      "[93]\tTest-mlogloss:0.77563\n",
      "[94]\tTest-mlogloss:0.77385\n",
      "[95]\tTest-mlogloss:0.77211\n",
      "[96]\tTest-mlogloss:0.77037\n",
      "[97]\tTest-mlogloss:0.76869\n",
      "[98]\tTest-mlogloss:0.76699\n",
      "[99]\tTest-mlogloss:0.76532\n"
     ]
    }
   ],
   "source": [
    "fitted_model,accuracy = tune_model(X_train, y_train, X_val, y_val, best_params, infolist, model = 'XGB')"
   ]
  },
  {
   "cell_type": "code",
   "execution_count": 67,
   "metadata": {},
   "outputs": [
    {
     "data": {
      "text/plain": [
       "0.7289384317261757"
      ]
     },
     "execution_count": 67,
     "metadata": {},
     "output_type": "execute_result"
    }
   ],
   "source": [
    "accuracy"
   ]
  },
  {
   "cell_type": "markdown",
   "metadata": {},
   "source": [
    "# Run validation and print csv"
   ]
  },
  {
   "cell_type": "code",
   "execution_count": 68,
   "metadata": {},
   "outputs": [
    {
     "name": "stdout",
     "output_type": "stream",
     "text": [
      "File saved as data/output/predictions_2024-02-03_11-07-23.csv\n"
     ]
    }
   ],
   "source": [
    "run_and_save(fitted_model,selected_test_df,building_id)"
   ]
  }
 ],
 "metadata": {
  "kernelspec": {
   "display_name": "mario_env",
   "language": "python",
   "name": "python3"
  },
  "language_info": {
   "codemirror_mode": {
    "name": "ipython",
    "version": 3
   },
   "file_extension": ".py",
   "mimetype": "text/x-python",
   "name": "python",
   "nbconvert_exporter": "python",
   "pygments_lexer": "ipython3",
   "version": "3.11.7"
  }
 },
 "nbformat": 4,
 "nbformat_minor": 2
}
